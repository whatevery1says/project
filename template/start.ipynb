{
 "cells": [
  {
   "cell_type": "markdown",
   "metadata": {},
   "source": [
    "<style type=\"text/css\">\n",
    " .hidden {display: none;}\n",
    "</style>\n",
    "<h2>\n",
    " Project Name --\n",
    " <span class=\"\" id=\"project-name\">\n",
    "  20190224_1906_reddit-jokes\n",
    " </span>\n",
    "</h2>\n",
    "<p>\n",
    " <strong>\n",
    "  Project Folder:\n",
    " </strong>\n",
    " <a href=\"http://harbor.english.ucsb.edu:10000/tree/write/dev/20190224_1906_reddit-jokes\" id=\"project-folder-url\">\n",
    "  http://harbor.english.ucsb.edu:10000/tree/write/dev/20190224_1906_reddit-jokes\n",
    " </a>\n",
    "</p>\n",
    "<h3>\n",
    " Visualisations\n",
    "</h3>\n",
    "<p>\n",
    "    <button>Refresh</button>\n",
    "</p>\n",
    "<ul>\n",
    " <li class=\"\" id=\"dfr-browser\">\n",
    "  <strong>\n",
    "   Dfr-Browser:\n",
    "  </strong>\n",
    "  <a href=\"http://harbor.english.ucsb.edu:10001/dev/20190224_1906_reddit-jokes/browser/\" id=\"dfr-browser-url\" target=\"_blank\">\n",
    "   http://harbor.english.ucsb.edu:10001/dev/20190224_1906_reddit-jokes/browser/\n",
    "  </a>\n",
    " </li>\n",
    " <li class=\"\" id=\"pyldavis\">\n",
    "  <strong>\n",
    "   pyLDAVis:\n",
    "  </strong>\n",
    "  <a href=\"http://harbor.english.ucsb.edu:10000/view/write/dev/20190224_1906_reddit-jokespyldavis/index.html\" id=\"pyldavis-url\" target=\"_blank\">\n",
    "   http://harbor.english.ucsb.edu:10000/view/write/dev/20190224_1906_reddit-jokespyldavis/index.html\n",
    "  </a>\n",
    " </li>\n",
    " <li class=\"hidden\" id=\"topic-bubbles\">\n",
    "  <strong>\n",
    "   Topic Bubbles:\n",
    "  </strong>\n",
    "  <a href=\"\" id=\"topic-bubbles-url\" target=\"_blank\">\n",
    "  </a>\n",
    " </li>\n",
    "</ul>"
   ]
  }
 ],
 "metadata": {
  "kernelspec": {
   "display_name": "Python 3",
   "language": "python",
   "name": "python3"
  },
  "language_info": {
   "codemirror_mode": {
    "name": "ipython",
    "version": 3
   },
   "file_extension": ".py",
   "mimetype": "text/x-python",
   "name": "python",
   "nbconvert_exporter": "python",
   "pygments_lexer": "ipython3",
   "version": "3.6.6"
  }
 },
 "nbformat": 4,
 "nbformat_minor": 2
}
