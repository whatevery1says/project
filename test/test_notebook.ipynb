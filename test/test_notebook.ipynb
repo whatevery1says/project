{
 "cells": [
  {
   "cell_type": "markdown",
   "metadata": {},
   "source": [
    "# Test Notebook\n",
    "\n",
    "This notebook provides a method of testing the `Project` class methods. It allows you to\n",
    "\n",
    "1. Create a sample manifest and, if necessary, insert it into the database.\n",
    "2. Run some find and delete operations on the database records.\n",
    "3. Create an instance of your project using the sample manifest.\n",
    "4. Run some tests on the project using the `Project` class methods.\n",
    "\n",
    "In order to run this notebook, you should first start MongoDB. Then, in the `config/config.py` file, configure the url for the MongoDB client and the paths to your local template directory (where the template folders are stored) and your local workspace directory (where project folders are stored)."
   ]
  },
  {
   "cell_type": "markdown",
   "metadata": {},
   "source": [
    "## Import Configuration and Project Class"
   ]
  },
  {
   "cell_type": "code",
   "execution_count": null,
   "metadata": {
    "scrolled": true
   },
   "outputs": [],
   "source": [
    "%run project/Project.py"
   ]
  },
  {
   "cell_type": "markdown",
   "metadata": {},
   "source": [
    "## Sample Data Name\n",
    "\n",
    "Enter the name for a sample manifest for which you wish to create a Project object."
   ]
  },
  {
   "cell_type": "code",
   "execution_count": null,
   "metadata": {},
   "outputs": [],
   "source": [
    "name = 'test'"
   ]
  },
  {
   "cell_type": "markdown",
   "metadata": {},
   "source": [
    "## Add Sample Data"
   ]
  },
  {
   "cell_type": "code",
   "execution_count": null,
   "metadata": {},
   "outputs": [],
   "source": [
    "# Change these values before running the cell to execute the database queries\n",
    "insert_new_record = False\n",
    "update_existing_record = False\n",
    "\n",
    "\n",
    "# Place a sample manifest in the database - Configure the name below.\n",
    "manifest = {\n",
    "    'name': 'test-save-new'\n",
    "}\n",
    "\n",
    "# Insert a new manifest\n",
    "if insert_new_record == True:\n",
    "    projects_db.insert_one(manifest)\n",
    "    print('The new manifest was added to the database.')\n",
    "    \n",
    "# From now on, use _id to access the manifest\n",
    "result = list(projects_db.find(manifest))\n",
    "try:\n",
    "    _id = result[0]['_id']\n",
    "    manifest['_id'] = _id\n",
    "except:\n",
    "    pass\n",
    "\n",
    "# Add Some Project Versions to the Manifest and Update\n",
    "if update_existing_record == True:\n",
    "    manifest['content'] = []\n",
    "    now = datetime.today().strftime('%Y%m%d%H%M%S')\n",
    "    manifest['content'].append(\n",
    "        {\n",
    "            'version_date': now,\n",
    "            'version_number': 1,\n",
    "            'version_name': now + '_v1_' + manifest['name']\n",
    "\n",
    "        }\n",
    "    )\n",
    "    now = datetime.today().strftime('%Y%m%d%H%M%S')\n",
    "    manifest['content'].append(\n",
    "        {\n",
    "            'version_date': now,\n",
    "            'version_number': 2,\n",
    "            'version_name': now + '_v2_' + manifest['name']\n",
    "\n",
    "        }\n",
    "    )\n",
    "    projects_db.update_one({'_id': _id},\n",
    "                           {'$set': {'content': manifest['content']}}, upsert=False)\n",
    "    print('The sample manifest was updated.')\n",
    "\n",
    "# Output when both database configs are False\n",
    "if insert_new_record == False and update_existing_record == False:\n",
    "    print('No action was taken.')"
   ]
  },
  {
   "cell_type": "markdown",
   "metadata": {},
   "source": [
    "## Convenience Functions"
   ]
  },
  {
   "cell_type": "code",
   "execution_count": null,
   "metadata": {},
   "outputs": [],
   "source": [
    "def delete_by_id(_id):\n",
    "    projects_db.delete_one({'_id': _id})\n",
    "    print(str(_id) + ' deleted.')\n",
    "\n",
    "def delete_by_name(name):\n",
    "    projects_db.delete_one({'name': name})\n",
    "    print(name + ' deleted.')\n",
    "\n",
    "def find_by_id(_id):\n",
    "    result = list(projects_db.find({'_id': _id}))\n",
    "    print(json.dumps(result, indent=2, sort_keys=False, default=JSON_UTIL))\n",
    "\n",
    "def find_by_name(name):\n",
    "    result = list(projects_db.find({'name': name}))\n",
    "    print(json.dumps(result, indent=2, sort_keys=False, default=JSON_UTIL))\n",
    "\n",
    "# Uncomment to run one of the functions in this cell\n",
    "# delete_by_id(ObjectId('5cf9d819b370023f6079706a'))\n",
    "# delete_by_name(name)\n",
    "# find_by_id(ObjectId('5cf9d923b370023f6079706c'))\n"
   ]
  },
  {
   "cell_type": "markdown",
   "metadata": {},
   "source": [
    "## Create a Project Object\n",
    "\n",
    "**Important:** This does not create a project in the WMS or Workspace. It merely creates an instance of the `Project` class, which can then be manipulated by class methods."
   ]
  },
  {
   "cell_type": "code",
   "execution_count": null,
   "metadata": {},
   "outputs": [],
   "source": [
    "try:\n",
    "    project = Project(manifest, config.TEMPLATES_DIR, config.WORKSPACE_DIR, config.TEMP_DIR)\n",
    "    print('Project object created')\n",
    "except:\n",
    "    print('Could not create Project object.')"
   ]
  },
  {
   "cell_type": "markdown",
   "metadata": {},
   "source": [
    "## Test Methods\n",
    "\n",
    "This cell demonstrates `Project.print_manifest()`. You can test other `Project` class methods by inserting more cells below. All methods are documented at <a href=\"https://whatevery1says.github.io/projectclass/\" target=\"_blank\">https://whatevery1says.github.io/projectclass/</a>."
   ]
  },
  {
   "cell_type": "code",
   "execution_count": null,
   "metadata": {},
   "outputs": [],
   "source": [
    "# Display the Manifest\n",
    "project.print_manifest()"
   ]
  }
 ],
 "metadata": {
  "kernelspec": {
   "display_name": "Python 3",
   "language": "python",
   "name": "python3"
  },
  "language_info": {
   "codemirror_mode": {
    "name": "ipython",
    "version": 3
   },
   "file_extension": ".py",
   "mimetype": "text/x-python",
   "name": "python",
   "nbconvert_exporter": "python",
   "pygments_lexer": "ipython3",
   "version": "3.7.1"
  }
 },
 "nbformat": 4,
 "nbformat_minor": 4
}
