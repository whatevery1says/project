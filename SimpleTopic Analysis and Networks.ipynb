{
 "cells": [
  {
   "cell_type": "markdown",
   "metadata": {},
   "source": [
    "## Some Simple Topic Analysis Network Vis with Python, a Topic GUI (running Mallet), Excel, Gephi"
   ]
  },
  {
   "cell_type": "markdown",
   "metadata": {},
   "source": [
    "### By Lynn Cherny (@arnicas) (March, 2015 and Oct, 2015) for PyLadies Boston and UMiami CCS\n",
    "\n",
    "### Code converted to Python 3 by Scott Kleinman (@sekleinman) (December, 2018)"
   ]
  },
  {
   "cell_type": "markdown",
   "metadata": {},
   "source": [
    "Topic modeling (sometimes known by the technical description LDA -- for \"latent dirichlet allocation\") is a statistical method for exploring the words in document collections and document relationships to one another via those words. In topic modeling, a topic is inferred from documents as a collection of likely words that are found in those documents. Some documents may be associated strongly with some topics and less strongly with others.   Here's an overview borrowed from this [presentation](http://www.slideshare.net/vitomirkovanovic/topic-modeling-for-learning-analytics-researchers-lak15-tutorial?utm_content=buffer89b5f&utm_medium=social&utm_source=twitter.com&utm_campaign=buffer):\n",
    "\n",
    "<img src=\"images/goal_topic_modeling.png\">\n",
    "\n",
    "For instance, a news article about a Chinese soccer team might be loosely associated with a topic that includes words about Chinese politics, but more strongly associated with a topic that includes words about sports and soccer. Documents with similar vocabularies (content) will generally end up associated with similar topics, because the topics are constructed out of the observed frequencies of words in the documents."
   ]
  },
  {
   "cell_type": "markdown",
   "metadata": {},
   "source": [
    "###A Few More Technical (and Non-Technical) References For Those Interested in LDA\n",
    "\n",
    "* [\"Probabilistic Topic Models\"](https://www.cs.princeton.edu/~blei/papers/Blei2012.pdf) by David Blei in CACM\n",
    "* [Dimensionality Reducation and Latent Topic Models](http://pages.cs.wisc.edu/~jerryzhu/cs769/latent.pdf) -  notes by Xiaojin Zhu, covers LSA and other methods, not just LDA\n",
    "* [\"Topic modeling made just simple enough\"](http://tedunderwood.com/2012/04/07/topic-modeling-made-just-simple-enough/) by Ted Underwood from Digital Humanities perspective"
   ]
  },
  {
   "cell_type": "markdown",
   "metadata": {},
   "source": [
    "### But We're Mainly Trying to Visualize Results In This Demo\n",
    "\n",
    "\n",
    "There are a lot of more technical introductions to this topic, but this is meant to be a short talk illustrating the easiest way to get visual results without a lot of coding.\n",
    "\n",
    "We'll be using some chapters of well-known books from the [Gutenberg Project](https://www.gutenberg.org/) as well as some excerpts from modern best-sellers: \n",
    "\n",
    "* **Twilight (Stephanie Meyer)**, \n",
    "* **Fifty Shades of Gray (EL James)**, \n",
    "* and **The DaVinci Code** and **Angels and Demons (both by Dan Brown)**.  \n",
    "* **Jane Austen's Pride and Prejudice** and **Sense and Sensibility**, \n",
    "* **JM Barrie's Peter Pan**, \n",
    "* **Joseph Conrad's The Secret Agent**, \n",
    "* **AC Doyle's Sherlock Holmes** stories, \n",
    "* **George Eliot's Middlemarch**, \n",
    "* **Grimm's Fairytales**, \n",
    "* **CS Lewis's The Lion, the Witch, and the Wardrobe,** and \n",
    "* **RL Stevenson's Treasure Island.**\n",
    "\n",
    "I picked these since we'd expect to be able to see patterns in their content across both chapters and authors, but we might also learn something interesting, too."
   ]
  },
  {
   "cell_type": "markdown",
   "metadata": {},
   "source": [
    "#### Verify the contents of the data folder we'll be using: "
   ]
  },
  {
   "cell_type": "code",
   "execution_count": 7,
   "metadata": {},
   "outputs": [
    {
     "name": "stdout",
     "output_type": "stream",
     "text": [
      "\u001b[31mTopics_Words.csv\u001b[m\u001b[m*    \u001b[31mtopics-in-docs.csv\u001b[m\u001b[m*\r\n",
      "\u001b[31mdocs-in-topics.csv\u001b[m\u001b[m*  \u001b[31mtopics-metadata.csv\u001b[m\u001b[m*\r\n"
     ]
    }
   ],
   "source": [
    "ls ~/Desktop/output_csv"
   ]
  },
  {
   "cell_type": "markdown",
   "metadata": {},
   "source": [
    "*Alert: If you're on a Mac, check for a .DS_Store file here and delete it if you can before running the topic modeler.*"
   ]
  },
  {
   "cell_type": "markdown",
   "metadata": {},
   "source": [
    "The topic tool GUI we will use is available in this repo (and duplicated in my github repo, but it may not run for you without a fresh download, especially on Windows): https://code.google.com/p/topic-modeling-tool/.*  This tool runs a GUI wrapper around [mallet](http://mallet.cs.umass.edu/), a state-of-the-art command line tool for topic modeling. After you've done this exercise, you can try running it without the GUI and exploring the other options in that package.\n",
    "\n",
    "\\* Update 2018: The most up-to-date version of the GUI Topic Modeling Tool is available at [https://github.com/senderle/topic-modeling-tool](https://github.com/senderle/topic-modeling-tool). This version should be used in preference to the original. However, the screen shots below have not been changed. If you need further help using the GUI Topic Modeling Tool, please see the instructions [here](https://senderle.github.io/topic-modeling-tool/documentation/2017/01/06/quickstart.html).\n",
    "    \n",
    "Download it if you don't have it already.  The tool will be called **TopicModelingTool.jar.**\n",
    "\n",
    "Create a directory for output files, called **topic_output,** for example.  Doubleclick on the jar file to run it. Select the input directory **data/mixed_chapters** and the output directory you created. Click on **Advanced...** and change the settings to match."
   ]
  },
  {
   "cell_type": "markdown",
   "metadata": {},
   "source": [
    "\n",
    "#### It should look something like this:\n",
    "<img src=\"images/topicModelingTool_advanced.png\">"
   ]
  },
  {
   "cell_type": "markdown",
   "metadata": {},
   "source": []
  },
  {
   "cell_type": "markdown",
   "metadata": {},
   "source": [
    "Run it by clicking \"Learn Topics.\" Look at the 2 folders that have appeared in your ouput directory (e.g., topic_output), if this ran correctly:\n",
    "\n",
    "* output_csv\n",
    "* output_html\n",
    "\n",
    "If you want to browse around the output produced in the HTML folder, feel free (click on the _all_topics.html_ file to load it in a browser). **NB: You will probably see slightly different results... LDA training is non-deterministic and the element of randomness may lead to different results.**  But they will probably nevertheless be comparable; I've run several times on this data and gotten similar results each time.  For instance, with 12 topics, here is one set of results:\n",
    "\n",
    "<img src=\"images/topicModeling_allTopicsHTML.png\">\n",
    "\n",
    "Each topic is described by ten words associated with the documents in that topic. When you click on a topic, you can see some of the documents and the matching score for each:\n",
    "\n",
    "<img src=\"images/topicModeling_docsInTopic.png\">\n",
    "\n",
    "And if you click on a document, you can see how well it matches other topics in the set of topics. \n",
    "\n",
    "<img src=\"images/topicModeling_docMatches.png\">\n",
    "\n",
    "I find the HTML non-visual display kind of confusing. So we're going to make a network diagram instead. In this code, you want to set the path to your output directory for the csv files:\n"
   ]
  },
  {
   "cell_type": "code",
   "execution_count": 8,
   "metadata": {},
   "outputs": [],
   "source": [
    "import os\n",
    "import csv\n",
    "import collections\n",
    "\n",
    "DIR = '/Users/Lianna/Desktop/output_csv'\n",
    "topicWords = DIR + 'Topics_Words.csv'\n",
    "topicDocs = DIR + 'TopicsInDocs.csv'\n",
    "docsTopics = DIR + 'DocsInTopics.csv'\n",
    "topicwords = os.path.join(DIR, 'Topics_Words.csv')\n"
   ]
  },
  {
   "cell_type": "code",
   "execution_count": 9,
   "metadata": {},
   "outputs": [],
   "source": [
    "# This will give you the 10 words per topic; we asked for 12 topics.\n",
    "# Be careful in your code - the topics are numbered starting with 1, not 0.\n",
    "\n",
    "def list_words_for_topics(filename):\n",
    "    \"\"\" Expects the Topics_Words csv file.\"\"\"\n",
    "    words = {}\n",
    "    with open(filename, 'r') as csvfile:\n",
    "        reader = csv.reader(csvfile, delimiter=',', quotechar='\"')\n",
    "        for index, row in enumerate(reader):\n",
    "            if index > 0:  # skip first row\n",
    "                words[row[0]] = [x.strip() for x in row[1].split() if len(x.strip())>0]\n",
    "                print (row)\n",
    "    return words"
   ]
  },
  {
   "cell_type": "code",
   "execution_count": 11,
   "metadata": {},
   "outputs": [
    {
     "name": "stdout",
     "output_type": "stream",
     "text": [
      "ls: ~/Users/Lianna/Desktop/output_csv/: No such file or directory\r\n"
     ]
    }
   ],
   "source": [
    "ls '~/Users/Lianna/Desktop/output_csv/'"
   ]
  },
  {
   "cell_type": "code",
   "execution_count": 46,
   "metadata": {},
   "outputs": [
    {
     "name": "stdout",
     "output_type": "stream",
     "text": [
      "['0', 'roland aoi franks charlemagne hes great god count pagans emperor hath strike thousand oliver guenes battle dead answers hand slain']\n",
      "['1', 'renaud king charlemagne great maugis duke richard sire roland ogier aymon knights folk brother brethren men bayard sons lords made']\n",
      "['2', 'lord count men god aymeri lords charlemagne knights noble brave fine fierce moors face maid town narbonne inside rode fight']\n",
      "['3', 'king great good man day made head give lord sword heard horse heart back son long leave france left love']\n",
      "['4', 'ogier huon charlemagne chariot prince emperor time son namo bordeaux court dane sherasmin legends young cup duke sultan carahue abbot']\n",
      "['5', 'orlando rinaldo horse charlemagne angelica knight knights sword legends found made combat bayard army fell france armor turned moment arms']\n",
      "['6', 'girart oliver lord vienne charles roland knights renier god brave part replies sees duke fine hears hernaut fierce count worthy']\n",
      "['7', 'aiol god lord noble knight dont makaire hes youll louis knights im elye heard didnt youre back youve lance father']\n",
      "['8', 'fierabras floripas oliver pagan roland pagans emir charlemagne balan god geste gallant replied gui moor richart count sir hearing thousand']\n",
      "['9', 'rogero bradamante astolpho prince ring medoro air legends eyes enchanter paladin thou castle alcina knowing time power spot melissa rock']\n"
     ]
    },
    {
     "data": {
      "text/plain": [
       "10"
      ]
     },
     "execution_count": 46,
     "metadata": {},
     "output_type": "execute_result"
    }
   ],
   "source": [
    "word_list = list_words_for_topics(topicWords)\n",
    "len(word_list)  # you will have as many as topics you requested - so, 12."
   ]
  },
  {
   "cell_type": "code",
   "execution_count": 47,
   "metadata": {},
   "outputs": [
    {
     "data": {
      "text/plain": [
       "['ogier',\n",
       " 'huon',\n",
       " 'charlemagne',\n",
       " 'chariot',\n",
       " 'prince',\n",
       " 'emperor',\n",
       " 'time',\n",
       " 'son',\n",
       " 'namo',\n",
       " 'bordeaux',\n",
       " 'court',\n",
       " 'dane',\n",
       " 'sherasmin',\n",
       " 'legends',\n",
       " 'young',\n",
       " 'cup',\n",
       " 'duke',\n",
       " 'sultan',\n",
       " 'carahue',\n",
       " 'abbot']"
      ]
     },
     "execution_count": 47,
     "metadata": {},
     "output_type": "execute_result"
    }
   ],
   "source": [
    "word_list['4'] # listing the words in the topic number"
   ]
  },
  {
   "cell_type": "markdown",
   "metadata": {},
   "source": [
    "Before we move on, what are some things you notice about the words in the topics? Anything odd, or any patterns here?  Why?  Is it good, or bad?"
   ]
  },
  {
   "cell_type": "markdown",
   "metadata": {},
   "source": [
    "\n",
    "\n",
    "#### Let's get the filenames mapped to the document id's which are used in most of these data files. The document filename and id is found in the DocsInTopics.csv.  While we're at it, let's get the authors, too."
   ]
  },
  {
   "cell_type": "code",
   "execution_count": 49,
   "metadata": {},
   "outputs": [],
   "source": [
    "def get_names_for_ids(filename):\n",
    "    \"\"\" Expects the DocsinTopics csv file.\"\"\"\n",
    "    \n",
    "    doc_titles = {}  # dictionary, the keys will be the doc id, the filename the value\n",
    "    doc_authors = {}\n",
    "    with open(filename, 'r') as csvfile:\n",
    "        reader = csv.reader(csvfile, delimiter=',', quotechar='\"')\n",
    "        for index, row in enumerate(reader):\n",
    "            print (row)\n",
    "            if index > 0:  # skip first row making the data structure\n",
    "                title = row[3].split('/')[-1:][0]  # last element of the split\n",
    "                author = title.split('_')[0]\n",
    "                id = row[2]\n",
    "                print (\"Parsed out \" + \", \" + author)\n",
    "                doc_titles[id] = title\n",
    "                doc_authors[id] = author\n",
    "    return doc_titles, doc_authors"
   ]
  },
  {
   "cell_type": "code",
   "execution_count": 50,
   "metadata": {},
   "outputs": [
    {
     "name": "stdout",
     "output_type": "stream",
     "text": [
      "['topicId', 'rank', 'docId', 'filename']\n",
      "['0', '0', '6', 'file:/Users/Lianna/Desktop/525DH%20Coding/Gui%20Input/Song_of_Roland_Moncreiff.txt']\n",
      "Parsed out , Song\n",
      "['0', '1', '20', 'file:/Users/Lianna/Desktop/525DH%20Coding/Gui%20Input/Battle_of_Roncesvalles_Bulfinch.txt']\n",
      "Parsed out , Battle\n",
      "['0', '2', '21', 'file:/Users/Lianna/Desktop/525DH%20Coding/Gui%20Input/Song_of_Girart_Newth.txt']\n",
      "Parsed out , Song\n",
      "['0', '3', '26', 'file:/Users/Lianna/Desktop/525DH%20Coding/Gui%20Input/Aiol.txt']\n",
      "Parsed out , Aiol.txt\n",
      "['0', '4', '25', 'file:/Users/Lianna/Desktop/525DH%20Coding/Gui%20Input/Medoro_Bulfinch.txt']\n",
      "Parsed out , Medoro\n",
      "['0', '5', '24', 'file:/Users/Lianna/Desktop/525DH%20Coding/Gui%20Input/War_in_Africa_Bulfinch.txt']\n",
      "Parsed out , War\n",
      "['0', '6', '23', 'file:/Users/Lianna/Desktop/525DH%20Coding/Gui%20Input/The_Tournament_Bulfinch.txt']\n",
      "Parsed out , The\n",
      "['0', '7', '22', 'file:/Users/Lianna/Desktop/525DH%20Coding/Gui%20Input/Ogier_the_Dane_Bulfinch.txt']\n",
      "Parsed out , Ogier\n",
      "['0', '8', '19', 'file:/Users/Lianna/Desktop/525DH%20Coding/Gui%20Input/Rogero_and_Bradamante_Bulfinch.txt']\n",
      "Parsed out , Rogero\n",
      "['0', '9', '18', 'file:/Users/Lianna/Desktop/525DH%20Coding/Gui%20Input/Zerbino_and_Isabella_Bulfinch.txt']\n",
      "Parsed out , Zerbino\n",
      "['0', '10', '17', 'file:/Users/Lianna/Desktop/525DH%20Coding/Gui%20Input/Huon_of_Bordeaux_Bulfinch.txt']\n",
      "Parsed out , Huon\n",
      "['0', '11', '16', 'file:/Users/Lianna/Desktop/525DH%20Coding/Gui%20Input/Rinaldo_and_Orlando_Bulfinch.txt']\n",
      "Parsed out , Rinaldo\n",
      "['0', '12', '15', 'file:/Users/Lianna/Desktop/525DH%20Coding/Gui%20Input/Siege_of_Albracca_Bulfinch.txt']\n",
      "Parsed out , Siege\n",
      "['0', '13', '14', 'file:/Users/Lianna/Desktop/525DH%20Coding/Gui%20Input/Peers_or_Paladins_Bulfinch.txt']\n",
      "Parsed out , Peers\n",
      "['0', '14', '13', 'file:/Users/Lianna/Desktop/525DH%20Coding/Gui%20Input/Astolpho_in_Absynnia_Bulfinch.txt']\n",
      "Parsed out , Astolpho\n",
      "['0', '15', '12', 'file:/Users/Lianna/Desktop/525DH%20Coding/Gui%20Input/Orlando_Mad_Bulfinch.txt']\n",
      "Parsed out , Orlando\n",
      "['0', '16', '11', 'file:/Users/Lianna/Desktop/525DH%20Coding/Gui%20Input/Fierabras_and_Floripas_Newth.txt']\n",
      "Parsed out , Fierabras\n",
      "['0', '17', '10', 'file:/Users/Lianna/Desktop/525DH%20Coding/Gui%20Input/Invasion_of_France_Bulfinch.txt']\n",
      "Parsed out , Invasion\n",
      "['0', '18', '9', 'file:/Users/Lianna/Desktop/525DH%20Coding/Gui%20Input/Death_of_Rinaldo_Bulfinch.txt']\n",
      "Parsed out , Death\n",
      "['0', '19', '8', 'file:/Users/Lianna/Desktop/525DH%20Coding/Gui%20Input/Rinaldo_and_Bayard_Bulfinch.txt']\n",
      "Parsed out , Rinaldo\n",
      "['0', '20', '7', 'file:/Users/Lianna/Desktop/525DH%20Coding/Gui%20Input/Renaud_of_Montauban_Steel.txt']\n",
      "Parsed out , Renaud\n",
      "['0', '21', '5', 'file:/Users/Lianna/Desktop/525DH%20Coding/Gui%20Input/Astolpho_and_Isabella_Bulfinch.txt']\n",
      "Parsed out , Astolpho\n",
      "['0', '22', '4', 'file:/Users/Lianna/Desktop/525DH%20Coding/Gui%20Input/Bradamante_and_Rogero_Bulfinch.txt']\n",
      "Parsed out , Bradamante\n",
      "['0', '23', '3', 'file:/Users/Lianna/Desktop/525DH%20Coding/Gui%20Input/The_Orc_Bulfinch.txt']\n",
      "Parsed out , The\n",
      "['0', '24', '2', 'file:/Users/Lianna/Desktop/525DH%20Coding/Gui%20Input/.DS_Store']\n",
      "Parsed out , .DS\n",
      "['0', '25', '1', 'file:/Users/Lianna/Desktop/525DH%20Coding/Gui%20Input/Astolpho_and_the_Enchantress_Bulfinch.txt']\n",
      "Parsed out , Astolpho\n",
      "['0', '26', '0', 'file:/Users/Lianna/Desktop/525DH%20Coding/Gui%20Input/Aymeri_of_Narbonne_Newth.txt']\n",
      "Parsed out , Aymeri\n",
      "['1', '0', '7', 'file:/Users/Lianna/Desktop/525DH%20Coding/Gui%20Input/Renaud_of_Montauban_Steel.txt']\n",
      "Parsed out , Renaud\n",
      "['1', '1', '9', 'file:/Users/Lianna/Desktop/525DH%20Coding/Gui%20Input/Death_of_Rinaldo_Bulfinch.txt']\n",
      "Parsed out , Death\n",
      "['1', '2', '8', 'file:/Users/Lianna/Desktop/525DH%20Coding/Gui%20Input/Rinaldo_and_Bayard_Bulfinch.txt']\n",
      "Parsed out , Rinaldo\n",
      "['1', '3', '19', 'file:/Users/Lianna/Desktop/525DH%20Coding/Gui%20Input/Rogero_and_Bradamante_Bulfinch.txt']\n",
      "Parsed out , Rogero\n",
      "['1', '4', '14', 'file:/Users/Lianna/Desktop/525DH%20Coding/Gui%20Input/Peers_or_Paladins_Bulfinch.txt']\n",
      "Parsed out , Peers\n",
      "['1', '5', '20', 'file:/Users/Lianna/Desktop/525DH%20Coding/Gui%20Input/Battle_of_Roncesvalles_Bulfinch.txt']\n",
      "Parsed out , Battle\n",
      "['1', '6', '25', 'file:/Users/Lianna/Desktop/525DH%20Coding/Gui%20Input/Medoro_Bulfinch.txt']\n",
      "Parsed out , Medoro\n",
      "['1', '7', '17', 'file:/Users/Lianna/Desktop/525DH%20Coding/Gui%20Input/Huon_of_Bordeaux_Bulfinch.txt']\n",
      "Parsed out , Huon\n",
      "['1', '8', '5', 'file:/Users/Lianna/Desktop/525DH%20Coding/Gui%20Input/Astolpho_and_Isabella_Bulfinch.txt']\n",
      "Parsed out , Astolpho\n",
      "['1', '9', '26', 'file:/Users/Lianna/Desktop/525DH%20Coding/Gui%20Input/Aiol.txt']\n",
      "Parsed out , Aiol.txt\n",
      "['1', '10', '24', 'file:/Users/Lianna/Desktop/525DH%20Coding/Gui%20Input/War_in_Africa_Bulfinch.txt']\n",
      "Parsed out , War\n",
      "['1', '11', '23', 'file:/Users/Lianna/Desktop/525DH%20Coding/Gui%20Input/The_Tournament_Bulfinch.txt']\n",
      "Parsed out , The\n",
      "['1', '12', '22', 'file:/Users/Lianna/Desktop/525DH%20Coding/Gui%20Input/Ogier_the_Dane_Bulfinch.txt']\n",
      "Parsed out , Ogier\n",
      "['1', '13', '21', 'file:/Users/Lianna/Desktop/525DH%20Coding/Gui%20Input/Song_of_Girart_Newth.txt']\n",
      "Parsed out , Song\n",
      "['1', '14', '18', 'file:/Users/Lianna/Desktop/525DH%20Coding/Gui%20Input/Zerbino_and_Isabella_Bulfinch.txt']\n",
      "Parsed out , Zerbino\n",
      "['1', '15', '16', 'file:/Users/Lianna/Desktop/525DH%20Coding/Gui%20Input/Rinaldo_and_Orlando_Bulfinch.txt']\n",
      "Parsed out , Rinaldo\n",
      "['1', '16', '15', 'file:/Users/Lianna/Desktop/525DH%20Coding/Gui%20Input/Siege_of_Albracca_Bulfinch.txt']\n",
      "Parsed out , Siege\n",
      "['1', '17', '13', 'file:/Users/Lianna/Desktop/525DH%20Coding/Gui%20Input/Astolpho_in_Absynnia_Bulfinch.txt']\n",
      "Parsed out , Astolpho\n",
      "['1', '18', '12', 'file:/Users/Lianna/Desktop/525DH%20Coding/Gui%20Input/Orlando_Mad_Bulfinch.txt']\n",
      "Parsed out , Orlando\n",
      "['1', '19', '11', 'file:/Users/Lianna/Desktop/525DH%20Coding/Gui%20Input/Fierabras_and_Floripas_Newth.txt']\n",
      "Parsed out , Fierabras\n",
      "['1', '20', '10', 'file:/Users/Lianna/Desktop/525DH%20Coding/Gui%20Input/Invasion_of_France_Bulfinch.txt']\n",
      "Parsed out , Invasion\n",
      "['1', '21', '6', 'file:/Users/Lianna/Desktop/525DH%20Coding/Gui%20Input/Song_of_Roland_Moncreiff.txt']\n",
      "Parsed out , Song\n",
      "['1', '22', '4', 'file:/Users/Lianna/Desktop/525DH%20Coding/Gui%20Input/Bradamante_and_Rogero_Bulfinch.txt']\n",
      "Parsed out , Bradamante\n",
      "['1', '23', '3', 'file:/Users/Lianna/Desktop/525DH%20Coding/Gui%20Input/The_Orc_Bulfinch.txt']\n",
      "Parsed out , The\n",
      "['1', '24', '2', 'file:/Users/Lianna/Desktop/525DH%20Coding/Gui%20Input/.DS_Store']\n",
      "Parsed out , .DS\n",
      "['1', '25', '1', 'file:/Users/Lianna/Desktop/525DH%20Coding/Gui%20Input/Astolpho_and_the_Enchantress_Bulfinch.txt']\n",
      "Parsed out , Astolpho\n",
      "['1', '26', '0', 'file:/Users/Lianna/Desktop/525DH%20Coding/Gui%20Input/Aymeri_of_Narbonne_Newth.txt']\n",
      "Parsed out , Aymeri\n",
      "['2', '0', '0', 'file:/Users/Lianna/Desktop/525DH%20Coding/Gui%20Input/Aymeri_of_Narbonne_Newth.txt']\n",
      "Parsed out , Aymeri\n",
      "['2', '1', '11', 'file:/Users/Lianna/Desktop/525DH%20Coding/Gui%20Input/Fierabras_and_Floripas_Newth.txt']\n",
      "Parsed out , Fierabras\n",
      "['2', '2', '21', 'file:/Users/Lianna/Desktop/525DH%20Coding/Gui%20Input/Song_of_Girart_Newth.txt']\n",
      "Parsed out , Song\n",
      "['2', '3', '6', 'file:/Users/Lianna/Desktop/525DH%20Coding/Gui%20Input/Song_of_Roland_Moncreiff.txt']\n",
      "Parsed out , Song\n",
      "['2', '4', '26', 'file:/Users/Lianna/Desktop/525DH%20Coding/Gui%20Input/Aiol.txt']\n",
      "Parsed out , Aiol.txt\n",
      "['2', '5', '18', 'file:/Users/Lianna/Desktop/525DH%20Coding/Gui%20Input/Zerbino_and_Isabella_Bulfinch.txt']\n",
      "Parsed out , Zerbino\n",
      "['2', '6', '20', 'file:/Users/Lianna/Desktop/525DH%20Coding/Gui%20Input/Battle_of_Roncesvalles_Bulfinch.txt']\n",
      "Parsed out , Battle\n",
      "['2', '7', '25', 'file:/Users/Lianna/Desktop/525DH%20Coding/Gui%20Input/Medoro_Bulfinch.txt']\n",
      "Parsed out , Medoro\n",
      "['2', '8', '4', 'file:/Users/Lianna/Desktop/525DH%20Coding/Gui%20Input/Bradamante_and_Rogero_Bulfinch.txt']\n",
      "Parsed out , Bradamante\n",
      "['2', '9', '10', 'file:/Users/Lianna/Desktop/525DH%20Coding/Gui%20Input/Invasion_of_France_Bulfinch.txt']\n",
      "Parsed out , Invasion\n",
      "['2', '10', '24', 'file:/Users/Lianna/Desktop/525DH%20Coding/Gui%20Input/War_in_Africa_Bulfinch.txt']\n",
      "Parsed out , War\n",
      "['2', '11', '23', 'file:/Users/Lianna/Desktop/525DH%20Coding/Gui%20Input/The_Tournament_Bulfinch.txt']\n",
      "Parsed out , The\n",
      "['2', '12', '22', 'file:/Users/Lianna/Desktop/525DH%20Coding/Gui%20Input/Ogier_the_Dane_Bulfinch.txt']\n",
      "Parsed out , Ogier\n",
      "['2', '13', '19', 'file:/Users/Lianna/Desktop/525DH%20Coding/Gui%20Input/Rogero_and_Bradamante_Bulfinch.txt']\n",
      "Parsed out , Rogero\n",
      "['2', '14', '17', 'file:/Users/Lianna/Desktop/525DH%20Coding/Gui%20Input/Huon_of_Bordeaux_Bulfinch.txt']\n",
      "Parsed out , Huon\n",
      "['2', '15', '16', 'file:/Users/Lianna/Desktop/525DH%20Coding/Gui%20Input/Rinaldo_and_Orlando_Bulfinch.txt']\n",
      "Parsed out , Rinaldo\n",
      "['2', '16', '15', 'file:/Users/Lianna/Desktop/525DH%20Coding/Gui%20Input/Siege_of_Albracca_Bulfinch.txt']\n",
      "Parsed out , Siege\n",
      "['2', '17', '14', 'file:/Users/Lianna/Desktop/525DH%20Coding/Gui%20Input/Peers_or_Paladins_Bulfinch.txt']\n",
      "Parsed out , Peers\n",
      "['2', '18', '13', 'file:/Users/Lianna/Desktop/525DH%20Coding/Gui%20Input/Astolpho_in_Absynnia_Bulfinch.txt']\n",
      "Parsed out , Astolpho\n",
      "['2', '19', '12', 'file:/Users/Lianna/Desktop/525DH%20Coding/Gui%20Input/Orlando_Mad_Bulfinch.txt']\n",
      "Parsed out , Orlando\n",
      "['2', '20', '9', 'file:/Users/Lianna/Desktop/525DH%20Coding/Gui%20Input/Death_of_Rinaldo_Bulfinch.txt']\n",
      "Parsed out , Death\n",
      "['2', '21', '8', 'file:/Users/Lianna/Desktop/525DH%20Coding/Gui%20Input/Rinaldo_and_Bayard_Bulfinch.txt']\n",
      "Parsed out , Rinaldo\n",
      "['2', '22', '7', 'file:/Users/Lianna/Desktop/525DH%20Coding/Gui%20Input/Renaud_of_Montauban_Steel.txt']\n",
      "Parsed out , Renaud\n",
      "['2', '23', '5', 'file:/Users/Lianna/Desktop/525DH%20Coding/Gui%20Input/Astolpho_and_Isabella_Bulfinch.txt']\n",
      "Parsed out , Astolpho\n",
      "['2', '24', '3', 'file:/Users/Lianna/Desktop/525DH%20Coding/Gui%20Input/The_Orc_Bulfinch.txt']\n",
      "Parsed out , The\n",
      "['2', '25', '2', 'file:/Users/Lianna/Desktop/525DH%20Coding/Gui%20Input/.DS_Store']\n",
      "Parsed out , .DS\n",
      "['2', '26', '1', 'file:/Users/Lianna/Desktop/525DH%20Coding/Gui%20Input/Astolpho_and_the_Enchantress_Bulfinch.txt']\n",
      "Parsed out , Astolpho\n",
      "['3', '0', '26', 'file:/Users/Lianna/Desktop/525DH%20Coding/Gui%20Input/Aiol.txt']\n",
      "Parsed out , Aiol.txt\n",
      "['3', '1', '11', 'file:/Users/Lianna/Desktop/525DH%20Coding/Gui%20Input/Fierabras_and_Floripas_Newth.txt']\n",
      "Parsed out , Fierabras\n",
      "['3', '2', '21', 'file:/Users/Lianna/Desktop/525DH%20Coding/Gui%20Input/Song_of_Girart_Newth.txt']\n",
      "Parsed out , Song\n",
      "['3', '3', '7', 'file:/Users/Lianna/Desktop/525DH%20Coding/Gui%20Input/Renaud_of_Montauban_Steel.txt']\n",
      "Parsed out , Renaud\n",
      "['3', '4', '0', 'file:/Users/Lianna/Desktop/525DH%20Coding/Gui%20Input/Aymeri_of_Narbonne_Newth.txt']\n",
      "Parsed out , Aymeri\n",
      "['3', '5', '6', 'file:/Users/Lianna/Desktop/525DH%20Coding/Gui%20Input/Song_of_Roland_Moncreiff.txt']\n",
      "Parsed out , Song\n",
      "['3', '6', '22', 'file:/Users/Lianna/Desktop/525DH%20Coding/Gui%20Input/Ogier_the_Dane_Bulfinch.txt']\n",
      "Parsed out , Ogier\n",
      "['3', '7', '17', 'file:/Users/Lianna/Desktop/525DH%20Coding/Gui%20Input/Huon_of_Bordeaux_Bulfinch.txt']\n",
      "Parsed out , Huon\n",
      "['3', '8', '20', 'file:/Users/Lianna/Desktop/525DH%20Coding/Gui%20Input/Battle_of_Roncesvalles_Bulfinch.txt']\n",
      "Parsed out , Battle\n",
      "['3', '9', '19', 'file:/Users/Lianna/Desktop/525DH%20Coding/Gui%20Input/Rogero_and_Bradamante_Bulfinch.txt']\n",
      "Parsed out , Rogero\n",
      "['3', '10', '10', 'file:/Users/Lianna/Desktop/525DH%20Coding/Gui%20Input/Invasion_of_France_Bulfinch.txt']\n",
      "Parsed out , Invasion\n",
      "['3', '11', '15', 'file:/Users/Lianna/Desktop/525DH%20Coding/Gui%20Input/Siege_of_Albracca_Bulfinch.txt']\n",
      "Parsed out , Siege\n",
      "['3', '12', '24', 'file:/Users/Lianna/Desktop/525DH%20Coding/Gui%20Input/War_in_Africa_Bulfinch.txt']\n",
      "Parsed out , War\n",
      "['3', '13', '25', 'file:/Users/Lianna/Desktop/525DH%20Coding/Gui%20Input/Medoro_Bulfinch.txt']\n",
      "Parsed out , Medoro\n",
      "['3', '14', '9', 'file:/Users/Lianna/Desktop/525DH%20Coding/Gui%20Input/Death_of_Rinaldo_Bulfinch.txt']\n",
      "Parsed out , Death\n",
      "['3', '15', '12', 'file:/Users/Lianna/Desktop/525DH%20Coding/Gui%20Input/Orlando_Mad_Bulfinch.txt']\n",
      "Parsed out , Orlando\n",
      "['3', '16', '8', 'file:/Users/Lianna/Desktop/525DH%20Coding/Gui%20Input/Rinaldo_and_Bayard_Bulfinch.txt']\n",
      "Parsed out , Rinaldo\n",
      "['3', '17', '1', 'file:/Users/Lianna/Desktop/525DH%20Coding/Gui%20Input/Astolpho_and_the_Enchantress_Bulfinch.txt']\n",
      "Parsed out , Astolpho\n",
      "['3', '18', '4', 'file:/Users/Lianna/Desktop/525DH%20Coding/Gui%20Input/Bradamante_and_Rogero_Bulfinch.txt']\n",
      "Parsed out , Bradamante\n",
      "['3', '19', '13', 'file:/Users/Lianna/Desktop/525DH%20Coding/Gui%20Input/Astolpho_in_Absynnia_Bulfinch.txt']\n",
      "Parsed out , Astolpho\n",
      "['3', '20', '18', 'file:/Users/Lianna/Desktop/525DH%20Coding/Gui%20Input/Zerbino_and_Isabella_Bulfinch.txt']\n",
      "Parsed out , Zerbino\n",
      "['3', '21', '23', 'file:/Users/Lianna/Desktop/525DH%20Coding/Gui%20Input/The_Tournament_Bulfinch.txt']\n",
      "Parsed out , The\n",
      "['3', '22', '14', 'file:/Users/Lianna/Desktop/525DH%20Coding/Gui%20Input/Peers_or_Paladins_Bulfinch.txt']\n",
      "Parsed out , Peers\n",
      "['3', '23', '5', 'file:/Users/Lianna/Desktop/525DH%20Coding/Gui%20Input/Astolpho_and_Isabella_Bulfinch.txt']\n",
      "Parsed out , Astolpho\n",
      "['3', '24', '3', 'file:/Users/Lianna/Desktop/525DH%20Coding/Gui%20Input/The_Orc_Bulfinch.txt']\n",
      "Parsed out , The\n",
      "['3', '25', '16', 'file:/Users/Lianna/Desktop/525DH%20Coding/Gui%20Input/Rinaldo_and_Orlando_Bulfinch.txt']\n",
      "Parsed out , Rinaldo\n",
      "['3', '26', '2', 'file:/Users/Lianna/Desktop/525DH%20Coding/Gui%20Input/.DS_Store']\n",
      "Parsed out , .DS\n",
      "['4', '0', '17', 'file:/Users/Lianna/Desktop/525DH%20Coding/Gui%20Input/Huon_of_Bordeaux_Bulfinch.txt']\n",
      "Parsed out , Huon\n",
      "['4', '1', '22', 'file:/Users/Lianna/Desktop/525DH%20Coding/Gui%20Input/Ogier_the_Dane_Bulfinch.txt']\n",
      "Parsed out , Ogier\n",
      "['4', '2', '19', 'file:/Users/Lianna/Desktop/525DH%20Coding/Gui%20Input/Rogero_and_Bradamante_Bulfinch.txt']\n",
      "Parsed out , Rogero\n",
      "['4', '3', '10', 'file:/Users/Lianna/Desktop/525DH%20Coding/Gui%20Input/Invasion_of_France_Bulfinch.txt']\n",
      "Parsed out , Invasion\n",
      "['4', '4', '24', 'file:/Users/Lianna/Desktop/525DH%20Coding/Gui%20Input/War_in_Africa_Bulfinch.txt']\n",
      "Parsed out , War\n",
      "['4', '5', '14', 'file:/Users/Lianna/Desktop/525DH%20Coding/Gui%20Input/Peers_or_Paladins_Bulfinch.txt']\n",
      "Parsed out , Peers\n",
      "['4', '6', '5', 'file:/Users/Lianna/Desktop/525DH%20Coding/Gui%20Input/Astolpho_and_Isabella_Bulfinch.txt']\n",
      "Parsed out , Astolpho\n",
      "['4', '7', '13', 'file:/Users/Lianna/Desktop/525DH%20Coding/Gui%20Input/Astolpho_in_Absynnia_Bulfinch.txt']\n",
      "Parsed out , Astolpho\n",
      "['4', '8', '11', 'file:/Users/Lianna/Desktop/525DH%20Coding/Gui%20Input/Fierabras_and_Floripas_Newth.txt']\n",
      "Parsed out , Fierabras\n",
      "['4', '9', '20', 'file:/Users/Lianna/Desktop/525DH%20Coding/Gui%20Input/Battle_of_Roncesvalles_Bulfinch.txt']\n",
      "Parsed out , Battle\n",
      "['4', '10', '23', 'file:/Users/Lianna/Desktop/525DH%20Coding/Gui%20Input/The_Tournament_Bulfinch.txt']\n",
      "Parsed out , The\n",
      "['4', '11', '8', 'file:/Users/Lianna/Desktop/525DH%20Coding/Gui%20Input/Rinaldo_and_Bayard_Bulfinch.txt']\n",
      "Parsed out , Rinaldo\n",
      "['4', '12', '15', 'file:/Users/Lianna/Desktop/525DH%20Coding/Gui%20Input/Siege_of_Albracca_Bulfinch.txt']\n",
      "Parsed out , Siege\n",
      "['4', '13', '1', 'file:/Users/Lianna/Desktop/525DH%20Coding/Gui%20Input/Astolpho_and_the_Enchantress_Bulfinch.txt']\n",
      "Parsed out , Astolpho\n",
      "['4', '14', '9', 'file:/Users/Lianna/Desktop/525DH%20Coding/Gui%20Input/Death_of_Rinaldo_Bulfinch.txt']\n",
      "Parsed out , Death\n",
      "['4', '15', '25', 'file:/Users/Lianna/Desktop/525DH%20Coding/Gui%20Input/Medoro_Bulfinch.txt']\n",
      "Parsed out , Medoro\n",
      "['4', '16', '16', 'file:/Users/Lianna/Desktop/525DH%20Coding/Gui%20Input/Rinaldo_and_Orlando_Bulfinch.txt']\n",
      "Parsed out , Rinaldo\n",
      "['4', '17', '4', 'file:/Users/Lianna/Desktop/525DH%20Coding/Gui%20Input/Bradamante_and_Rogero_Bulfinch.txt']\n",
      "Parsed out , Bradamante\n",
      "['4', '18', '18', 'file:/Users/Lianna/Desktop/525DH%20Coding/Gui%20Input/Zerbino_and_Isabella_Bulfinch.txt']\n",
      "Parsed out , Zerbino\n",
      "['4', '19', '3', 'file:/Users/Lianna/Desktop/525DH%20Coding/Gui%20Input/The_Orc_Bulfinch.txt']\n",
      "Parsed out , The\n",
      "['4', '20', '7', 'file:/Users/Lianna/Desktop/525DH%20Coding/Gui%20Input/Renaud_of_Montauban_Steel.txt']\n",
      "Parsed out , Renaud\n",
      "['4', '21', '0', 'file:/Users/Lianna/Desktop/525DH%20Coding/Gui%20Input/Aymeri_of_Narbonne_Newth.txt']\n",
      "Parsed out , Aymeri\n",
      "['4', '22', '2', 'file:/Users/Lianna/Desktop/525DH%20Coding/Gui%20Input/.DS_Store']\n",
      "Parsed out , .DS\n",
      "['4', '23', '26', 'file:/Users/Lianna/Desktop/525DH%20Coding/Gui%20Input/Aiol.txt']\n",
      "Parsed out , Aiol.txt\n",
      "['4', '24', '21', 'file:/Users/Lianna/Desktop/525DH%20Coding/Gui%20Input/Song_of_Girart_Newth.txt']\n",
      "Parsed out , Song\n",
      "['4', '25', '12', 'file:/Users/Lianna/Desktop/525DH%20Coding/Gui%20Input/Orlando_Mad_Bulfinch.txt']\n",
      "Parsed out , Orlando\n",
      "['4', '26', '6', 'file:/Users/Lianna/Desktop/525DH%20Coding/Gui%20Input/Song_of_Roland_Moncreiff.txt']\n",
      "Parsed out , Song\n",
      "['5', '0', '10', 'file:/Users/Lianna/Desktop/525DH%20Coding/Gui%20Input/Invasion_of_France_Bulfinch.txt']\n",
      "Parsed out , Invasion\n",
      "['5', '1', '16', 'file:/Users/Lianna/Desktop/525DH%20Coding/Gui%20Input/Rinaldo_and_Orlando_Bulfinch.txt']\n",
      "Parsed out , Rinaldo\n",
      "['5', '2', '24', 'file:/Users/Lianna/Desktop/525DH%20Coding/Gui%20Input/War_in_Africa_Bulfinch.txt']\n",
      "Parsed out , War\n",
      "['5', '3', '15', 'file:/Users/Lianna/Desktop/525DH%20Coding/Gui%20Input/Siege_of_Albracca_Bulfinch.txt']\n",
      "Parsed out , Siege\n",
      "['5', '4', '20', 'file:/Users/Lianna/Desktop/525DH%20Coding/Gui%20Input/Battle_of_Roncesvalles_Bulfinch.txt']\n",
      "Parsed out , Battle\n",
      "['5', '5', '18', 'file:/Users/Lianna/Desktop/525DH%20Coding/Gui%20Input/Zerbino_and_Isabella_Bulfinch.txt']\n",
      "Parsed out , Zerbino\n",
      "['5', '6', '22', 'file:/Users/Lianna/Desktop/525DH%20Coding/Gui%20Input/Ogier_the_Dane_Bulfinch.txt']\n",
      "Parsed out , Ogier\n",
      "['5', '7', '14', 'file:/Users/Lianna/Desktop/525DH%20Coding/Gui%20Input/Peers_or_Paladins_Bulfinch.txt']\n",
      "Parsed out , Peers\n",
      "['5', '8', '23', 'file:/Users/Lianna/Desktop/525DH%20Coding/Gui%20Input/The_Tournament_Bulfinch.txt']\n",
      "Parsed out , The\n",
      "['5', '9', '12', 'file:/Users/Lianna/Desktop/525DH%20Coding/Gui%20Input/Orlando_Mad_Bulfinch.txt']\n",
      "Parsed out , Orlando\n",
      "['5', '10', '19', 'file:/Users/Lianna/Desktop/525DH%20Coding/Gui%20Input/Rogero_and_Bradamante_Bulfinch.txt']\n",
      "Parsed out , Rogero\n",
      "['5', '11', '17', 'file:/Users/Lianna/Desktop/525DH%20Coding/Gui%20Input/Huon_of_Bordeaux_Bulfinch.txt']\n",
      "Parsed out , Huon\n",
      "['5', '12', '3', 'file:/Users/Lianna/Desktop/525DH%20Coding/Gui%20Input/The_Orc_Bulfinch.txt']\n",
      "Parsed out , The\n",
      "['5', '13', '5', 'file:/Users/Lianna/Desktop/525DH%20Coding/Gui%20Input/Astolpho_and_Isabella_Bulfinch.txt']\n",
      "Parsed out , Astolpho\n",
      "['5', '14', '25', 'file:/Users/Lianna/Desktop/525DH%20Coding/Gui%20Input/Medoro_Bulfinch.txt']\n",
      "Parsed out , Medoro\n",
      "['5', '15', '8', 'file:/Users/Lianna/Desktop/525DH%20Coding/Gui%20Input/Rinaldo_and_Bayard_Bulfinch.txt']\n",
      "Parsed out , Rinaldo\n",
      "['5', '16', '4', 'file:/Users/Lianna/Desktop/525DH%20Coding/Gui%20Input/Bradamante_and_Rogero_Bulfinch.txt']\n",
      "Parsed out , Bradamante\n",
      "['5', '17', '9', 'file:/Users/Lianna/Desktop/525DH%20Coding/Gui%20Input/Death_of_Rinaldo_Bulfinch.txt']\n",
      "Parsed out , Death\n",
      "['5', '18', '1', 'file:/Users/Lianna/Desktop/525DH%20Coding/Gui%20Input/Astolpho_and_the_Enchantress_Bulfinch.txt']\n",
      "Parsed out , Astolpho\n",
      "['5', '19', '11', 'file:/Users/Lianna/Desktop/525DH%20Coding/Gui%20Input/Fierabras_and_Floripas_Newth.txt']\n",
      "Parsed out , Fierabras\n",
      "['5', '20', '26', 'file:/Users/Lianna/Desktop/525DH%20Coding/Gui%20Input/Aiol.txt']\n",
      "Parsed out , Aiol.txt\n",
      "['5', '21', '13', 'file:/Users/Lianna/Desktop/525DH%20Coding/Gui%20Input/Astolpho_in_Absynnia_Bulfinch.txt']\n",
      "Parsed out , Astolpho\n",
      "['5', '22', '0', 'file:/Users/Lianna/Desktop/525DH%20Coding/Gui%20Input/Aymeri_of_Narbonne_Newth.txt']\n",
      "Parsed out , Aymeri\n",
      "['5', '23', '7', 'file:/Users/Lianna/Desktop/525DH%20Coding/Gui%20Input/Renaud_of_Montauban_Steel.txt']\n",
      "Parsed out , Renaud\n",
      "['5', '24', '21', 'file:/Users/Lianna/Desktop/525DH%20Coding/Gui%20Input/Song_of_Girart_Newth.txt']\n",
      "Parsed out , Song\n",
      "['5', '25', '6', 'file:/Users/Lianna/Desktop/525DH%20Coding/Gui%20Input/Song_of_Roland_Moncreiff.txt']\n",
      "Parsed out , Song\n",
      "['5', '26', '2', 'file:/Users/Lianna/Desktop/525DH%20Coding/Gui%20Input/.DS_Store']\n",
      "Parsed out , .DS\n",
      "['6', '0', '21', 'file:/Users/Lianna/Desktop/525DH%20Coding/Gui%20Input/Song_of_Girart_Newth.txt']\n",
      "Parsed out , Song\n",
      "['6', '1', '0', 'file:/Users/Lianna/Desktop/525DH%20Coding/Gui%20Input/Aymeri_of_Narbonne_Newth.txt']\n",
      "Parsed out , Aymeri\n",
      "['6', '2', '6', 'file:/Users/Lianna/Desktop/525DH%20Coding/Gui%20Input/Song_of_Roland_Moncreiff.txt']\n",
      "Parsed out , Song\n",
      "['6', '3', '14', 'file:/Users/Lianna/Desktop/525DH%20Coding/Gui%20Input/Peers_or_Paladins_Bulfinch.txt']\n",
      "Parsed out , Peers\n",
      "['6', '4', '19', 'file:/Users/Lianna/Desktop/525DH%20Coding/Gui%20Input/Rogero_and_Bradamante_Bulfinch.txt']\n",
      "Parsed out , Rogero\n",
      "['6', '5', '20', 'file:/Users/Lianna/Desktop/525DH%20Coding/Gui%20Input/Battle_of_Roncesvalles_Bulfinch.txt']\n",
      "Parsed out , Battle\n",
      "['6', '6', '26', 'file:/Users/Lianna/Desktop/525DH%20Coding/Gui%20Input/Aiol.txt']\n",
      "Parsed out , Aiol.txt\n",
      "['6', '7', '25', 'file:/Users/Lianna/Desktop/525DH%20Coding/Gui%20Input/Medoro_Bulfinch.txt']\n",
      "Parsed out , Medoro\n",
      "['6', '8', '24', 'file:/Users/Lianna/Desktop/525DH%20Coding/Gui%20Input/War_in_Africa_Bulfinch.txt']\n",
      "Parsed out , War\n",
      "['6', '9', '23', 'file:/Users/Lianna/Desktop/525DH%20Coding/Gui%20Input/The_Tournament_Bulfinch.txt']\n",
      "Parsed out , The\n",
      "['6', '10', '22', 'file:/Users/Lianna/Desktop/525DH%20Coding/Gui%20Input/Ogier_the_Dane_Bulfinch.txt']\n",
      "Parsed out , Ogier\n",
      "['6', '11', '18', 'file:/Users/Lianna/Desktop/525DH%20Coding/Gui%20Input/Zerbino_and_Isabella_Bulfinch.txt']\n",
      "Parsed out , Zerbino\n",
      "['6', '12', '17', 'file:/Users/Lianna/Desktop/525DH%20Coding/Gui%20Input/Huon_of_Bordeaux_Bulfinch.txt']\n",
      "Parsed out , Huon\n",
      "['6', '13', '16', 'file:/Users/Lianna/Desktop/525DH%20Coding/Gui%20Input/Rinaldo_and_Orlando_Bulfinch.txt']\n",
      "Parsed out , Rinaldo\n",
      "['6', '14', '15', 'file:/Users/Lianna/Desktop/525DH%20Coding/Gui%20Input/Siege_of_Albracca_Bulfinch.txt']\n",
      "Parsed out , Siege\n",
      "['6', '15', '13', 'file:/Users/Lianna/Desktop/525DH%20Coding/Gui%20Input/Astolpho_in_Absynnia_Bulfinch.txt']\n",
      "Parsed out , Astolpho\n",
      "['6', '16', '12', 'file:/Users/Lianna/Desktop/525DH%20Coding/Gui%20Input/Orlando_Mad_Bulfinch.txt']\n",
      "Parsed out , Orlando\n",
      "['6', '17', '11', 'file:/Users/Lianna/Desktop/525DH%20Coding/Gui%20Input/Fierabras_and_Floripas_Newth.txt']\n",
      "Parsed out , Fierabras\n",
      "['6', '18', '10', 'file:/Users/Lianna/Desktop/525DH%20Coding/Gui%20Input/Invasion_of_France_Bulfinch.txt']\n",
      "Parsed out , Invasion\n",
      "['6', '19', '9', 'file:/Users/Lianna/Desktop/525DH%20Coding/Gui%20Input/Death_of_Rinaldo_Bulfinch.txt']\n",
      "Parsed out , Death\n",
      "['6', '20', '8', 'file:/Users/Lianna/Desktop/525DH%20Coding/Gui%20Input/Rinaldo_and_Bayard_Bulfinch.txt']\n",
      "Parsed out , Rinaldo\n",
      "['6', '21', '7', 'file:/Users/Lianna/Desktop/525DH%20Coding/Gui%20Input/Renaud_of_Montauban_Steel.txt']\n",
      "Parsed out , Renaud\n",
      "['6', '22', '5', 'file:/Users/Lianna/Desktop/525DH%20Coding/Gui%20Input/Astolpho_and_Isabella_Bulfinch.txt']\n",
      "Parsed out , Astolpho\n",
      "['6', '23', '4', 'file:/Users/Lianna/Desktop/525DH%20Coding/Gui%20Input/Bradamante_and_Rogero_Bulfinch.txt']\n",
      "Parsed out , Bradamante\n",
      "['6', '24', '3', 'file:/Users/Lianna/Desktop/525DH%20Coding/Gui%20Input/The_Orc_Bulfinch.txt']\n",
      "Parsed out , The\n",
      "['6', '25', '2', 'file:/Users/Lianna/Desktop/525DH%20Coding/Gui%20Input/.DS_Store']\n",
      "Parsed out , .DS\n",
      "['6', '26', '1', 'file:/Users/Lianna/Desktop/525DH%20Coding/Gui%20Input/Astolpho_and_the_Enchantress_Bulfinch.txt']\n",
      "Parsed out , Astolpho\n",
      "['7', '0', '26', 'file:/Users/Lianna/Desktop/525DH%20Coding/Gui%20Input/Aiol.txt']\n",
      "Parsed out , Aiol.txt\n",
      "['7', '1', '0', 'file:/Users/Lianna/Desktop/525DH%20Coding/Gui%20Input/Aymeri_of_Narbonne_Newth.txt']\n",
      "Parsed out , Aymeri\n",
      "['7', '2', '25', 'file:/Users/Lianna/Desktop/525DH%20Coding/Gui%20Input/Medoro_Bulfinch.txt']\n",
      "Parsed out , Medoro\n",
      "['7', '3', '24', 'file:/Users/Lianna/Desktop/525DH%20Coding/Gui%20Input/War_in_Africa_Bulfinch.txt']\n",
      "Parsed out , War\n",
      "['7', '4', '23', 'file:/Users/Lianna/Desktop/525DH%20Coding/Gui%20Input/The_Tournament_Bulfinch.txt']\n",
      "Parsed out , The\n",
      "['7', '5', '22', 'file:/Users/Lianna/Desktop/525DH%20Coding/Gui%20Input/Ogier_the_Dane_Bulfinch.txt']\n",
      "Parsed out , Ogier\n",
      "['7', '6', '21', 'file:/Users/Lianna/Desktop/525DH%20Coding/Gui%20Input/Song_of_Girart_Newth.txt']\n",
      "Parsed out , Song\n",
      "['7', '7', '20', 'file:/Users/Lianna/Desktop/525DH%20Coding/Gui%20Input/Battle_of_Roncesvalles_Bulfinch.txt']\n",
      "Parsed out , Battle\n",
      "['7', '8', '19', 'file:/Users/Lianna/Desktop/525DH%20Coding/Gui%20Input/Rogero_and_Bradamante_Bulfinch.txt']\n",
      "Parsed out , Rogero\n",
      "['7', '9', '18', 'file:/Users/Lianna/Desktop/525DH%20Coding/Gui%20Input/Zerbino_and_Isabella_Bulfinch.txt']\n",
      "Parsed out , Zerbino\n",
      "['7', '10', '17', 'file:/Users/Lianna/Desktop/525DH%20Coding/Gui%20Input/Huon_of_Bordeaux_Bulfinch.txt']\n",
      "Parsed out , Huon\n",
      "['7', '11', '16', 'file:/Users/Lianna/Desktop/525DH%20Coding/Gui%20Input/Rinaldo_and_Orlando_Bulfinch.txt']\n",
      "Parsed out , Rinaldo\n",
      "['7', '12', '15', 'file:/Users/Lianna/Desktop/525DH%20Coding/Gui%20Input/Siege_of_Albracca_Bulfinch.txt']\n",
      "Parsed out , Siege\n",
      "['7', '13', '14', 'file:/Users/Lianna/Desktop/525DH%20Coding/Gui%20Input/Peers_or_Paladins_Bulfinch.txt']\n",
      "Parsed out , Peers\n",
      "['7', '14', '13', 'file:/Users/Lianna/Desktop/525DH%20Coding/Gui%20Input/Astolpho_in_Absynnia_Bulfinch.txt']\n",
      "Parsed out , Astolpho\n",
      "['7', '15', '12', 'file:/Users/Lianna/Desktop/525DH%20Coding/Gui%20Input/Orlando_Mad_Bulfinch.txt']\n",
      "Parsed out , Orlando\n",
      "['7', '16', '11', 'file:/Users/Lianna/Desktop/525DH%20Coding/Gui%20Input/Fierabras_and_Floripas_Newth.txt']\n",
      "Parsed out , Fierabras\n",
      "['7', '17', '10', 'file:/Users/Lianna/Desktop/525DH%20Coding/Gui%20Input/Invasion_of_France_Bulfinch.txt']\n",
      "Parsed out , Invasion\n",
      "['7', '18', '9', 'file:/Users/Lianna/Desktop/525DH%20Coding/Gui%20Input/Death_of_Rinaldo_Bulfinch.txt']\n",
      "Parsed out , Death\n",
      "['7', '19', '8', 'file:/Users/Lianna/Desktop/525DH%20Coding/Gui%20Input/Rinaldo_and_Bayard_Bulfinch.txt']\n",
      "Parsed out , Rinaldo\n",
      "['7', '20', '7', 'file:/Users/Lianna/Desktop/525DH%20Coding/Gui%20Input/Renaud_of_Montauban_Steel.txt']\n",
      "Parsed out , Renaud\n",
      "['7', '21', '6', 'file:/Users/Lianna/Desktop/525DH%20Coding/Gui%20Input/Song_of_Roland_Moncreiff.txt']\n",
      "Parsed out , Song\n",
      "['7', '22', '5', 'file:/Users/Lianna/Desktop/525DH%20Coding/Gui%20Input/Astolpho_and_Isabella_Bulfinch.txt']\n",
      "Parsed out , Astolpho\n",
      "['7', '23', '4', 'file:/Users/Lianna/Desktop/525DH%20Coding/Gui%20Input/Bradamante_and_Rogero_Bulfinch.txt']\n",
      "Parsed out , Bradamante\n",
      "['7', '24', '3', 'file:/Users/Lianna/Desktop/525DH%20Coding/Gui%20Input/The_Orc_Bulfinch.txt']\n",
      "Parsed out , The\n",
      "['7', '25', '2', 'file:/Users/Lianna/Desktop/525DH%20Coding/Gui%20Input/.DS_Store']\n",
      "Parsed out , .DS\n",
      "['7', '26', '1', 'file:/Users/Lianna/Desktop/525DH%20Coding/Gui%20Input/Astolpho_and_the_Enchantress_Bulfinch.txt']\n",
      "Parsed out , Astolpho\n",
      "['8', '0', '11', 'file:/Users/Lianna/Desktop/525DH%20Coding/Gui%20Input/Fierabras_and_Floripas_Newth.txt']\n",
      "Parsed out , Fierabras\n",
      "['8', '1', '0', 'file:/Users/Lianna/Desktop/525DH%20Coding/Gui%20Input/Aymeri_of_Narbonne_Newth.txt']\n",
      "Parsed out , Aymeri\n",
      "['8', '2', '21', 'file:/Users/Lianna/Desktop/525DH%20Coding/Gui%20Input/Song_of_Girart_Newth.txt']\n",
      "Parsed out , Song\n",
      "['8', '3', '14', 'file:/Users/Lianna/Desktop/525DH%20Coding/Gui%20Input/Peers_or_Paladins_Bulfinch.txt']\n",
      "Parsed out , Peers\n",
      "['8', '4', '20', 'file:/Users/Lianna/Desktop/525DH%20Coding/Gui%20Input/Battle_of_Roncesvalles_Bulfinch.txt']\n",
      "Parsed out , Battle\n",
      "['8', '5', '4', 'file:/Users/Lianna/Desktop/525DH%20Coding/Gui%20Input/Bradamante_and_Rogero_Bulfinch.txt']\n",
      "Parsed out , Bradamante\n",
      "['8', '6', '7', 'file:/Users/Lianna/Desktop/525DH%20Coding/Gui%20Input/Renaud_of_Montauban_Steel.txt']\n",
      "Parsed out , Renaud\n",
      "['8', '7', '26', 'file:/Users/Lianna/Desktop/525DH%20Coding/Gui%20Input/Aiol.txt']\n",
      "Parsed out , Aiol.txt\n",
      "['8', '8', '22', 'file:/Users/Lianna/Desktop/525DH%20Coding/Gui%20Input/Ogier_the_Dane_Bulfinch.txt']\n",
      "Parsed out , Ogier\n",
      "['8', '9', '13', 'file:/Users/Lianna/Desktop/525DH%20Coding/Gui%20Input/Astolpho_in_Absynnia_Bulfinch.txt']\n",
      "Parsed out , Astolpho\n",
      "['8', '10', '25', 'file:/Users/Lianna/Desktop/525DH%20Coding/Gui%20Input/Medoro_Bulfinch.txt']\n",
      "Parsed out , Medoro\n",
      "['8', '11', '24', 'file:/Users/Lianna/Desktop/525DH%20Coding/Gui%20Input/War_in_Africa_Bulfinch.txt']\n",
      "Parsed out , War\n",
      "['8', '12', '23', 'file:/Users/Lianna/Desktop/525DH%20Coding/Gui%20Input/The_Tournament_Bulfinch.txt']\n",
      "Parsed out , The\n",
      "['8', '13', '19', 'file:/Users/Lianna/Desktop/525DH%20Coding/Gui%20Input/Rogero_and_Bradamante_Bulfinch.txt']\n",
      "Parsed out , Rogero\n",
      "['8', '14', '18', 'file:/Users/Lianna/Desktop/525DH%20Coding/Gui%20Input/Zerbino_and_Isabella_Bulfinch.txt']\n",
      "Parsed out , Zerbino\n",
      "['8', '15', '17', 'file:/Users/Lianna/Desktop/525DH%20Coding/Gui%20Input/Huon_of_Bordeaux_Bulfinch.txt']\n",
      "Parsed out , Huon\n",
      "['8', '16', '16', 'file:/Users/Lianna/Desktop/525DH%20Coding/Gui%20Input/Rinaldo_and_Orlando_Bulfinch.txt']\n",
      "Parsed out , Rinaldo\n",
      "['8', '17', '15', 'file:/Users/Lianna/Desktop/525DH%20Coding/Gui%20Input/Siege_of_Albracca_Bulfinch.txt']\n",
      "Parsed out , Siege\n",
      "['8', '18', '12', 'file:/Users/Lianna/Desktop/525DH%20Coding/Gui%20Input/Orlando_Mad_Bulfinch.txt']\n",
      "Parsed out , Orlando\n",
      "['8', '19', '10', 'file:/Users/Lianna/Desktop/525DH%20Coding/Gui%20Input/Invasion_of_France_Bulfinch.txt']\n",
      "Parsed out , Invasion\n",
      "['8', '20', '9', 'file:/Users/Lianna/Desktop/525DH%20Coding/Gui%20Input/Death_of_Rinaldo_Bulfinch.txt']\n",
      "Parsed out , Death\n",
      "['8', '21', '8', 'file:/Users/Lianna/Desktop/525DH%20Coding/Gui%20Input/Rinaldo_and_Bayard_Bulfinch.txt']\n",
      "Parsed out , Rinaldo\n",
      "['8', '22', '6', 'file:/Users/Lianna/Desktop/525DH%20Coding/Gui%20Input/Song_of_Roland_Moncreiff.txt']\n",
      "Parsed out , Song\n",
      "['8', '23', '5', 'file:/Users/Lianna/Desktop/525DH%20Coding/Gui%20Input/Astolpho_and_Isabella_Bulfinch.txt']\n",
      "Parsed out , Astolpho\n",
      "['8', '24', '3', 'file:/Users/Lianna/Desktop/525DH%20Coding/Gui%20Input/The_Orc_Bulfinch.txt']\n",
      "Parsed out , The\n",
      "['8', '25', '2', 'file:/Users/Lianna/Desktop/525DH%20Coding/Gui%20Input/.DS_Store']\n",
      "Parsed out , .DS\n",
      "['8', '26', '1', 'file:/Users/Lianna/Desktop/525DH%20Coding/Gui%20Input/Astolpho_and_the_Enchantress_Bulfinch.txt']\n",
      "Parsed out , Astolpho\n",
      "['9', '0', '1', 'file:/Users/Lianna/Desktop/525DH%20Coding/Gui%20Input/Astolpho_and_the_Enchantress_Bulfinch.txt']\n",
      "Parsed out , Astolpho\n",
      "['9', '1', '4', 'file:/Users/Lianna/Desktop/525DH%20Coding/Gui%20Input/Bradamante_and_Rogero_Bulfinch.txt']\n",
      "Parsed out , Bradamante\n",
      "['9', '2', '13', 'file:/Users/Lianna/Desktop/525DH%20Coding/Gui%20Input/Astolpho_in_Absynnia_Bulfinch.txt']\n",
      "Parsed out , Astolpho\n",
      "['9', '3', '19', 'file:/Users/Lianna/Desktop/525DH%20Coding/Gui%20Input/Rogero_and_Bradamante_Bulfinch.txt']\n",
      "Parsed out , Rogero\n",
      "['9', '4', '3', 'file:/Users/Lianna/Desktop/525DH%20Coding/Gui%20Input/The_Orc_Bulfinch.txt']\n",
      "Parsed out , The\n",
      "['9', '5', '10', 'file:/Users/Lianna/Desktop/525DH%20Coding/Gui%20Input/Invasion_of_France_Bulfinch.txt']\n",
      "Parsed out , Invasion\n",
      "['9', '6', '25', 'file:/Users/Lianna/Desktop/525DH%20Coding/Gui%20Input/Medoro_Bulfinch.txt']\n",
      "Parsed out , Medoro\n",
      "['9', '7', '5', 'file:/Users/Lianna/Desktop/525DH%20Coding/Gui%20Input/Astolpho_and_Isabella_Bulfinch.txt']\n",
      "Parsed out , Astolpho\n",
      "['9', '8', '23', 'file:/Users/Lianna/Desktop/525DH%20Coding/Gui%20Input/The_Tournament_Bulfinch.txt']\n",
      "Parsed out , The\n",
      "['9', '9', '24', 'file:/Users/Lianna/Desktop/525DH%20Coding/Gui%20Input/War_in_Africa_Bulfinch.txt']\n",
      "Parsed out , War\n",
      "['9', '10', '12', 'file:/Users/Lianna/Desktop/525DH%20Coding/Gui%20Input/Orlando_Mad_Bulfinch.txt']\n",
      "Parsed out , Orlando\n",
      "['9', '11', '17', 'file:/Users/Lianna/Desktop/525DH%20Coding/Gui%20Input/Huon_of_Bordeaux_Bulfinch.txt']\n",
      "Parsed out , Huon\n",
      "['9', '12', '18', 'file:/Users/Lianna/Desktop/525DH%20Coding/Gui%20Input/Zerbino_and_Isabella_Bulfinch.txt']\n",
      "Parsed out , Zerbino\n",
      "['9', '13', '16', 'file:/Users/Lianna/Desktop/525DH%20Coding/Gui%20Input/Rinaldo_and_Orlando_Bulfinch.txt']\n",
      "Parsed out , Rinaldo\n",
      "['9', '14', '15', 'file:/Users/Lianna/Desktop/525DH%20Coding/Gui%20Input/Siege_of_Albracca_Bulfinch.txt']\n",
      "Parsed out , Siege\n",
      "['9', '15', '11', 'file:/Users/Lianna/Desktop/525DH%20Coding/Gui%20Input/Fierabras_and_Floripas_Newth.txt']\n",
      "Parsed out , Fierabras\n",
      "['9', '16', '20', 'file:/Users/Lianna/Desktop/525DH%20Coding/Gui%20Input/Battle_of_Roncesvalles_Bulfinch.txt']\n",
      "Parsed out , Battle\n",
      "['9', '17', '22', 'file:/Users/Lianna/Desktop/525DH%20Coding/Gui%20Input/Ogier_the_Dane_Bulfinch.txt']\n",
      "Parsed out , Ogier\n",
      "['9', '18', '26', 'file:/Users/Lianna/Desktop/525DH%20Coding/Gui%20Input/Aiol.txt']\n",
      "Parsed out , Aiol.txt\n",
      "['9', '19', '7', 'file:/Users/Lianna/Desktop/525DH%20Coding/Gui%20Input/Renaud_of_Montauban_Steel.txt']\n",
      "Parsed out , Renaud\n",
      "['9', '20', '9', 'file:/Users/Lianna/Desktop/525DH%20Coding/Gui%20Input/Death_of_Rinaldo_Bulfinch.txt']\n",
      "Parsed out , Death\n",
      "['9', '21', '21', 'file:/Users/Lianna/Desktop/525DH%20Coding/Gui%20Input/Song_of_Girart_Newth.txt']\n",
      "Parsed out , Song\n",
      "['9', '22', '14', 'file:/Users/Lianna/Desktop/525DH%20Coding/Gui%20Input/Peers_or_Paladins_Bulfinch.txt']\n",
      "Parsed out , Peers\n",
      "['9', '23', '8', 'file:/Users/Lianna/Desktop/525DH%20Coding/Gui%20Input/Rinaldo_and_Bayard_Bulfinch.txt']\n",
      "Parsed out , Rinaldo\n",
      "['9', '24', '6', 'file:/Users/Lianna/Desktop/525DH%20Coding/Gui%20Input/Song_of_Roland_Moncreiff.txt']\n",
      "Parsed out , Song\n",
      "['9', '25', '2', 'file:/Users/Lianna/Desktop/525DH%20Coding/Gui%20Input/.DS_Store']\n",
      "Parsed out , .DS\n",
      "['9', '26', '0', 'file:/Users/Lianna/Desktop/525DH%20Coding/Gui%20Input/Aymeri_of_Narbonne_Newth.txt']\n",
      "Parsed out , Aymeri\n"
     ]
    }
   ],
   "source": [
    "doc_ids, doc_authors = get_names_for_ids(docsTopics)"
   ]
  },
  {
   "cell_type": "code",
   "execution_count": 51,
   "metadata": {},
   "outputs": [
    {
     "data": {
      "text/plain": [
       "'Astolpho_and_the_Enchantress_Bulfinch.txt'"
      ]
     },
     "execution_count": 51,
     "metadata": {},
     "output_type": "execute_result"
    }
   ],
   "source": [
    "doc_ids['1']"
   ]
  },
  {
   "cell_type": "markdown",
   "metadata": {},
   "source": [
    "*Note here: If you see \".DS_Store\" as a document, you need to delete that file from the directory you input to the topic modeling tool GUI and rerun that.*"
   ]
  },
  {
   "cell_type": "code",
   "execution_count": 52,
   "metadata": {},
   "outputs": [
    {
     "data": {
      "text/plain": [
       "{'6': 'Song',\n",
       " '20': 'Battle',\n",
       " '21': 'Song',\n",
       " '26': 'Aiol.txt',\n",
       " '25': 'Medoro',\n",
       " '24': 'War',\n",
       " '23': 'The',\n",
       " '22': 'Ogier',\n",
       " '19': 'Rogero',\n",
       " '18': 'Zerbino',\n",
       " '17': 'Huon',\n",
       " '16': 'Rinaldo',\n",
       " '15': 'Siege',\n",
       " '14': 'Peers',\n",
       " '13': 'Astolpho',\n",
       " '12': 'Orlando',\n",
       " '11': 'Fierabras',\n",
       " '10': 'Invasion',\n",
       " '9': 'Death',\n",
       " '8': 'Rinaldo',\n",
       " '7': 'Renaud',\n",
       " '5': 'Astolpho',\n",
       " '4': 'Bradamante',\n",
       " '3': 'The',\n",
       " '2': '.DS',\n",
       " '1': 'Astolpho',\n",
       " '0': 'Aymeri'}"
      ]
     },
     "execution_count": 52,
     "metadata": {},
     "output_type": "execute_result"
    }
   ],
   "source": [
    "doc_authors"
   ]
  },
  {
   "cell_type": "markdown",
   "metadata": {},
   "source": [
    "#### One of the output files, the most useful for network drawing, is in an INSANE format where topic numbers alternate with scores for the percentage of the document matched to the topic."
   ]
  },
  {
   "cell_type": "markdown",
   "metadata": {},
   "source": [
    "\n",
    "<img src=\"images/TopicsInDocsCSV.png\">"
   ]
  },
  {
   "cell_type": "markdown",
   "metadata": {},
   "source": [
    "From looking at it, we can see that some documents - like 3, 4, 5, 6 - don't have as many topics associated with them.  We used a cutoff value of .05 (5%) in the GUI when we ran the modeling, so we don't report any associations weaker than that. \n",
    "\n",
    "**But let's parse it nicely so we can use this in a visual.**"
   ]
  },
  {
   "cell_type": "code",
   "execution_count": 64,
   "metadata": {},
   "outputs": [],
   "source": [
    "# This gets you the topic assigments and strength of association for each document and topic.\n",
    "\n",
    "def parse_topicsDocs(filename):\n",
    "    \"\"\" Filename input is the TopicsInDocs.csv file path. \"\"\"\n",
    "    \n",
    "    docs = {}\n",
    "    with open(filename, \"r\") as csvfile:\n",
    "        spamreader = csv.reader(csvfile, delimiter=',', quotechar='\"')\n",
    "        for index, row in enumerate(spamreader):\n",
    "            if index > 0:  # skip first row\n",
    "                print (\"row:\"+ str(row))\n",
    "                docid = row[0]\n",
    "                topics = row[2:]\n",
    "                topics_dict = dict(zip(topics[::2],topics[1::2]))  #alternating\n",
    "                print (docid + \", \" + str(topics_dict))\n",
    "                docs[docid] = topics_dict\n",
    "    return docs"
   ]
  },
  {
   "cell_type": "code",
   "execution_count": 65,
   "metadata": {},
   "outputs": [
    {
     "name": "stdout",
     "output_type": "stream",
     "text": [
      "row:['0', 'file:/Users/Lianna/Desktop/525DH%20Coding/Gui%20Input/Aymeri_of_Narbonne_Newth.txt', '2', '0.6049849149565826', '3', '0.32866435168235764', '6', '0.03635784829802773', '8', '0.0217681022422297', '7', '0.006377002392067401', '5', '0.0015625694076623043', '4', '2.6148842612849164E-4', '9', '1.8306145611224027E-5', '1', '3.961364043695619E-6', '0', '1.45508528921076E-6']\n",
      "0, {'2': '0.6049849149565826', '3': '0.32866435168235764', '6': '0.03635784829802773', '8': '0.0217681022422297', '7': '0.006377002392067401', '5': '0.0015625694076623043', '4': '2.6148842612849164E-4', '9': '1.8306145611224027E-5', '1': '3.961364043695619E-6', '0': '1.45508528921076E-6'}\n",
      "row:['1', 'file:/Users/Lianna/Desktop/525DH%20Coding/Gui%20Input/Astolpho_and_the_Enchantress_Bulfinch.txt', '9', '0.5911324428575963', '3', '0.21869186744995803', '5', '0.15254477596536714', '4', '0.037448516942247864', '2', '4.930499947208124E-5', '8', '4.0792607379409387E-5', '1', '4.015140818215169E-5', '6', '2.6784623865295226E-5', '0', '1.4748385339621816E-5', '7', '1.061476059221675E-5']\n",
      "1, {'9': '0.5911324428575963', '3': '0.21869186744995803', '5': '0.15254477596536714', '4': '0.037448516942247864', '2': '4.930499947208124E-5', '8': '4.0792607379409387E-5', '1': '4.015140818215169E-5', '6': '2.6784623865295226E-5', '0': '1.4748385339621816E-5', '7': '1.061476059221675E-5'}\n",
      "row:['2', 'file:/Users/Lianna/Desktop/525DH%20Coding/Gui%20Input/.DS_Store', '4', '0.5290502654146574', '3', '0.21879632636910146', '5', '0.1138600786356458', '9', '0.06973859660824928', '2', '0.01853152771385834', '8', '0.015332103078109158', '1', '0.015091105191052836', '6', '0.010067133247735898', '0', '0.005543253515510622', '7', '0.003989610226079022']\n",
      "2, {'4': '0.5290502654146574', '3': '0.21879632636910146', '5': '0.1138600786356458', '9': '0.06973859660824928', '2': '0.01853152771385834', '8': '0.015332103078109158', '1': '0.015091105191052836', '6': '0.010067133247735898', '0': '0.005543253515510622', '7': '0.003989610226079022'}\n",
      "row:['3', 'file:/Users/Lianna/Desktop/525DH%20Coding/Gui%20Input/The_Orc_Bulfinch.txt', '9', '0.4570429893868232', '5', '0.3408547464229897', '3', '0.19041653331998645', '4', '0.01143275108860465', '2', '6.838480190106038E-5', '8', '5.657832683373704E-5', '1', '5.568899957376181E-5', '6', '3.714960382587164E-5', '0', '2.0455641833677277E-5', '7', '1.4722407627992295E-5']\n",
      "3, {'9': '0.4570429893868232', '5': '0.3408547464229897', '3': '0.19041653331998645', '4': '0.01143275108860465', '2': '6.838480190106038E-5', '8': '5.657832683373704E-5', '1': '5.568899957376181E-5', '6': '3.714960382587164E-5', '0': '2.0455641833677277E-5', '7': '1.4722407627992295E-5'}\n",
      "row:['4', 'file:/Users/Lianna/Desktop/525DH%20Coding/Gui%20Input/Bradamante_and_Rogero_Bulfinch.txt', '9', '0.5753874076916933', '3', '0.217883383382802', '5', '0.1773035475996252', '4', '0.017344997385560827', '8', '0.007967901311537736', '2', '0.00401467296798648', '1', '4.2670347615641224E-5', '6', '2.8464984488250132E-5', '0', '1.5673640295655625E-5', '7', '1.1280688395084477E-5']\n",
      "4, {'9': '0.5753874076916933', '3': '0.217883383382802', '5': '0.1773035475996252', '4': '0.017344997385560827', '8': '0.007967901311537736', '2': '0.00401467296798648', '1': '4.2670347615641224E-5', '6': '2.8464984488250132E-5', '0': '1.5673640295655625E-5', '7': '1.1280688395084477E-5'}\n",
      "row:['5', 'file:/Users/Lianna/Desktop/525DH%20Coding/Gui%20Input/Astolpho_and_Isabella_Bulfinch.txt', '5', '0.3399295835176164', '9', '0.3015620844739604', '3', '0.23309716964270244', '4', '0.12304494839145709', '1', '0.0021300464229104077', '2', '8.18602422738979E-5', '8', '6.772726414799597E-5', '6', '4.447005014308627E-5', '0', '2.448649041632945E-5', '7', '1.762350437201229E-5']\n",
      "5, {'5': '0.3399295835176164', '9': '0.3015620844739604', '3': '0.23309716964270244', '4': '0.12304494839145709', '1': '0.0021300464229104077', '2': '8.18602422738979E-5', '8': '6.772726414799597E-5', '6': '4.447005014308627E-5', '0': '2.448649041632945E-5', '7': '1.762350437201229E-5'}\n",
      "row:['6', 'file:/Users/Lianna/Desktop/525DH%20Coding/Gui%20Input/Song_of_Roland_Moncreiff.txt', '0', '0.612577657716422', '3', '0.3608226647801869', '2', '0.01943293795352399', '6', '0.007018424664110721', '5', '1.0034278559278112E-4', '9', '2.0142405819652942E-5', '4', '1.789033523363265E-5', '8', '4.4283288922893835E-6', '1', '4.3587221396609096E-6', '7', '1.152308078227305E-6']\n",
      "6, {'0': '0.612577657716422', '3': '0.3608226647801869', '2': '0.01943293795352399', '6': '0.007018424664110721', '5': '1.0034278559278112E-4', '9': '2.0142405819652942E-5', '4': '1.789033523363265E-5', '8': '4.4283288922893835E-6', '1': '4.3587221396609096E-6', '7': '1.152308078227305E-6'}\n",
      "row:['7', 'file:/Users/Lianna/Desktop/525DH%20Coding/Gui%20Input/Renaud_of_Montauban_Steel.txt', '1', '0.7601360561039736', '3', '0.23819762325149196', '5', '7.059020261611676E-4', '9', '4.964460045207044E-4', '4', '3.740001626347048E-4', '8', '8.338204132296383E-5', '2', '3.202871234913848E-6', '6', '1.7399391995677434E-6', '0', '9.580606362737654E-7', '7', '6.895388242638393E-7']\n",
      "7, {'1': '0.7601360561039736', '3': '0.23819762325149196', '5': '7.059020261611676E-4', '9': '4.964460045207044E-4', '4': '3.740001626347048E-4', '8': '8.338204132296383E-5', '2': '3.202871234913848E-6', '6': '1.7399391995677434E-6', '0': '9.580606362737654E-7', '7': '6.895388242638393E-7'}\n",
      "row:['8', 'file:/Users/Lianna/Desktop/525DH%20Coding/Gui%20Input/Rinaldo_and_Bayard_Bulfinch.txt', '3', '0.42973906451607274', '5', '0.3963165465149511', '1', '0.09018174747021956', '4', '0.08312034105478092', '9', '3.635740489724352E-4', '2', '9.661196084028155E-5', '8', '7.993213323010146E-5', '6', '5.2483826380747786E-5', '0', '2.889910642217434E-5', '7', '2.0799368129897278E-5']\n",
      "8, {'3': '0.42973906451607274', '5': '0.3963165465149511', '1': '0.09018174747021956', '4': '0.08312034105478092', '9': '3.635740489724352E-4', '2': '9.661196084028155E-5', '8': '7.993213323010146E-5', '6': '5.2483826380747786E-5', '0': '2.889910642217434E-5', '7': '2.0799368129897278E-5'}\n",
      "row:['9', 'file:/Users/Lianna/Desktop/525DH%20Coding/Gui%20Input/Death_of_Rinaldo_Bulfinch.txt', '3', '0.43558789706423', '5', '0.3020052391715868', '1', '0.21672976635370164', '4', '0.04270104164162183', '9', '0.0027065187152284227', '2', '9.342675734075604E-5', '8', '7.729684761665694E-5', '6', '5.0753485064802296E-5', '0', '2.7946330657057165E-5', '7', '2.0113632951984962E-5']\n",
      "9, {'3': '0.43558789706423', '5': '0.3020052391715868', '1': '0.21672976635370164', '4': '0.04270104164162183', '9': '0.0027065187152284227', '2': '9.342675734075604E-5', '8': '7.729684761665694E-5', '6': '5.0753485064802296E-5', '0': '2.7946330657057165E-5', '7': '2.0113632951984962E-5'}\n",
      "row:['10', 'file:/Users/Lianna/Desktop/525DH%20Coding/Gui%20Input/Invasion_of_France_Bulfinch.txt', '5', '0.5839983365448204', '3', '0.18712704049376813', '9', '0.17187506250461942', '4', '0.055898886062347976', '2', '0.001029096183105972', '8', '2.193870841968495E-5', '1', '2.1593864509690778E-5', '6', '1.4405062359614107E-5', '0', '7.931842223707443E-6', '7', '5.708733825505648E-6']\n",
      "10, {'5': '0.5839983365448204', '3': '0.18712704049376813', '9': '0.17187506250461942', '4': '0.055898886062347976', '2': '0.001029096183105972', '8': '2.193870841968495E-5', '1': '2.1593864509690778E-5', '6': '1.4405062359614107E-5', '0': '7.931842223707443E-6', '7': '5.708733825505648E-6'}\n",
      "row:['11', 'file:/Users/Lianna/Desktop/525DH%20Coding/Gui%20Input/Fierabras_and_Floripas_Newth.txt', '8', '0.4221670658708862', '3', '0.36855080451791705', '2', '0.19889490120406564', '5', '0.0038963153925908995', '4', '0.0032721903871892983', '9', '0.0032143543615019833', '1', '1.9002555492392193E-6', '6', '1.2676424673179397E-6', '0', '6.980004526066119E-7', '7', '5.023673796868741E-7']\n",
      "11, {'8': '0.4221670658708862', '3': '0.36855080451791705', '2': '0.19889490120406564', '5': '0.0038963153925908995', '4': '0.0032721903871892983', '9': '0.0032143543615019833', '1': '1.9002555492392193E-6', '6': '1.2676424673179397E-6', '0': '6.980004526066119E-7', '7': '5.023673796868741E-7'}\n",
      "row:['12', 'file:/Users/Lianna/Desktop/525DH%20Coding/Gui%20Input/Orlando_Mad_Bulfinch.txt', '5', '0.5101511697838664', '3', '0.2942877653543344', '9', '0.19510168181877838', '4', '2.180509482059127E-4', '2', '6.523623110183574E-5', '8', '5.3973349371121476E-5', '1', '5.312496848759058E-5', '6', '3.543916298876673E-5', '0', '1.9513823845374883E-5', '7', '1.4044559020360956E-5']\n",
      "12, {'5': '0.5101511697838664', '3': '0.2942877653543344', '9': '0.19510168181877838', '4': '2.180509482059127E-4', '2': '6.523623110183574E-5', '8': '5.3973349371121476E-5', '1': '5.312496848759058E-5', '6': '3.543916298876673E-5', '0': '1.9513823845374883E-5', '7': '1.4044559020360956E-5'}\n",
      "row:['13', 'file:/Users/Lianna/Desktop/525DH%20Coding/Gui%20Input/Astolpho_in_Absynnia_Bulfinch.txt', '9', '0.5710579099788513', '3', '0.2639850065229777', '4', '0.10020255443934971', '5', '0.06364921582666806', '8', '9.105900182974701E-4', '2', '6.780045708512121E-5', '1', '5.521313977302937E-5', '6', '3.683216226274114E-5', '0', '2.0280849366200195E-5', '7', '1.4596605368770907E-5']\n",
      "13, {'9': '0.5710579099788513', '3': '0.2639850065229777', '4': '0.10020255443934971', '5': '0.06364921582666806', '8': '9.105900182974701E-4', '2': '6.780045708512121E-5', '1': '5.521313977302937E-5', '6': '3.683216226274114E-5', '0': '2.0280849366200195E-5', '7': '1.4596605368770907E-5'}\n",
      "row:['14', 'file:/Users/Lianna/Desktop/525DH%20Coding/Gui%20Input/Peers_or_Paladins_Bulfinch.txt', '5', '0.6050616683689726', '3', '0.2180285727528406', '4', '0.11140618744305407', '6', '0.02996977145493035', '1', '0.01972545690906748', '8', '0.015450209706453354', '9', '2.5536764004815325E-4', '2', '6.78584417945567E-5', '0', '2.0298194074601314E-5', '7', '1.4609088764273535E-5']\n",
      "14, {'5': '0.6050616683689726', '3': '0.2180285727528406', '4': '0.11140618744305407', '6': '0.02996977145493035', '1': '0.01972545690906748', '8': '0.015450209706453354', '9': '2.5536764004815325E-4', '2': '6.78584417945567E-5', '0': '2.0298194074601314E-5', '7': '1.4609088764273535E-5'}\n",
      "row:['15', 'file:/Users/Lianna/Desktop/525DH%20Coding/Gui%20Input/Siege_of_Albracca_Bulfinch.txt', '5', '0.5849528988315129', '3', '0.2993003114975535', '9', '0.07638846427422671', '4', '0.039179375763960286', '2', '4.837317475903697E-5', '8', '4.0021660009514986E-5', '1', '3.939257895979581E-5', '6', '2.627841608282866E-5', '0', '1.446965275501361E-5', '7', '1.0414150180518506E-5']\n",
      "15, {'5': '0.5849528988315129', '3': '0.2993003114975535', '9': '0.07638846427422671', '4': '0.039179375763960286', '2': '4.837317475903697E-5', '8': '4.0021660009514986E-5', '1': '3.939257895979581E-5', '6': '2.627841608282866E-5', '0': '1.446965275501361E-5', '7': '1.0414150180518506E-5'}\n",
      "row:['16', 'file:/Users/Lianna/Desktop/525DH%20Coding/Gui%20Input/Rinaldo_and_Orlando_Bulfinch.txt', '5', '0.7389051932009721', '3', '0.1360454805726985', '9', '0.1068867929994789', '4', '0.01796180048926001', '2', '5.426152401814506E-5', '8', '4.489339963047666E-5', '1', '4.418774207008839E-5', '6', '2.9477223947779692E-5', '0', '1.623100849616472E-5', '7', '1.168183942781647E-5']\n",
      "16, {'5': '0.7389051932009721', '3': '0.1360454805726985', '9': '0.1068867929994789', '4': '0.01796180048926001', '2': '5.426152401814506E-5', '8': '4.489339963047666E-5', '1': '4.418774207008839E-5', '6': '2.9477223947779692E-5', '0': '1.623100849616472E-5', '7': '1.168183942781647E-5'}\n",
      "row:['17', 'file:/Users/Lianna/Desktop/525DH%20Coding/Gui%20Input/Huon_of_Bordeaux_Bulfinch.txt', '4', '0.5748034003175002', '3', '0.25825804914827427', '5', '0.10991483715545305', '9', '0.05457694174857361', '1', '0.0023865041471518456', '2', '2.0889875578578E-5', '8', '1.7283287735641754E-5', '6', '1.134829055787453E-5', '0', '6.248695629823085E-6', '7', '4.497333545117688E-6']\n",
      "17, {'4': '0.5748034003175002', '3': '0.25825804914827427', '5': '0.10991483715545305', '9': '0.05457694174857361', '1': '0.0023865041471518456', '2': '2.0889875578578E-5', '8': '1.7283287735641754E-5', '6': '1.134829055787453E-5', '0': '6.248695629823085E-6', '7': '4.497333545117688E-6'}\n",
      "row:['18', 'file:/Users/Lianna/Desktop/525DH%20Coding/Gui%20Input/Zerbino_and_Isabella_Bulfinch.txt', '5', '0.6175149417301345', '3', '0.19481356498922167', '9', '0.1412181585556454', '2', '0.031233556701043767', '4', '0.015068013726709722', '8', '4.651572878854115E-5', '1', '4.578457062349274E-5', '6', '3.054245314189079E-5', '0', '1.6817554370722293E-5', '7', '1.2103990320365681E-5']\n",
      "18, {'5': '0.6175149417301345', '3': '0.19481356498922167', '9': '0.1412181585556454', '2': '0.031233556701043767', '4': '0.015068013726709722', '8': '4.651572878854115E-5', '1': '4.578457062349274E-5', '6': '3.054245314189079E-5', '0': '1.6817554370722293E-5', '7': '1.2103990320365681E-5'}\n",
      "row:['19', 'file:/Users/Lianna/Desktop/525DH%20Coding/Gui%20Input/Rogero_and_Bradamante_Bulfinch.txt', '9', '0.30198297495495985', '5', '0.28676222398565715', '3', '0.2800681461044049', '4', '0.09349746898378218', '1', '0.026708049622487143', '6', '0.010889346319936403', '2', '3.919693238671643E-5', '8', '3.242967428148895E-5', '0', '1.1724804161041278E-5', '7', '8.438617943194538E-6']\n",
      "19, {'9': '0.30198297495495985', '5': '0.28676222398565715', '3': '0.2800681461044049', '4': '0.09349746898378218', '1': '0.026708049622487143', '6': '0.010889346319936403', '2': '3.919693238671643E-5', '8': '3.242967428148895E-5', '0': '1.1724804161041278E-5', '7': '8.438617943194538E-6'}\n",
      "row:['20', 'file:/Users/Lianna/Desktop/525DH%20Coding/Gui%20Input/Battle_of_Roncesvalles_Bulfinch.txt', '5', '0.5117881065319684', '3', '0.3258742720638214', '4', '0.0589576932360647', '9', '0.05088195654436576', '0', '0.02429405921893846', '2', '0.012992814961600251', '8', '0.007589589389951569', '1', '0.007049449219277856', '6', '5.628415952563703E-4', '7', '9.217238755325421E-6']\n",
      "20, {'5': '0.5117881065319684', '3': '0.3258742720638214', '4': '0.0589576932360647', '9': '0.05088195654436576', '0': '0.02429405921893846', '2': '0.012992814961600251', '8': '0.007589589389951569', '1': '0.007049449219277856', '6': '5.628415952563703E-4', '7': '9.217238755325421E-6'}\n",
      "row:['21', 'file:/Users/Lianna/Desktop/525DH%20Coding/Gui%20Input/Song_of_Girart_Newth.txt', '6', '0.46703049649275846', '3', '0.3471993767388877', '2', '0.183532343988406', '8', '0.002109861512303452', '5', '6.027850784054319E-5', '0', '4.148488963440734E-5', '9', '1.2100064393814294E-5', '4', '1.0747187316753687E-5', '1', '2.618397178413604E-6', '7', '6.922212804618703E-7']\n",
      "21, {'6': '0.46703049649275846', '3': '0.3471993767388877', '2': '0.183532343988406', '8': '0.002109861512303452', '5': '6.027850784054319E-5', '0': '4.148488963440734E-5', '9': '1.2100064393814294E-5', '4': '1.0747187316753687E-5', '1': '2.618397178413604E-6', '7': '6.922212804618703E-7'}\n",
      "row:['22', 'file:/Users/Lianna/Desktop/525DH%20Coding/Gui%20Input/Ogier_the_Dane_Bulfinch.txt', '4', '0.5376305346482004', '3', '0.2532686676716351', '5', '0.18557805906963198', '9', '0.023194121932928892', '8', '2.707242234755557E-4', '2', '2.0157508567879914E-5', '1', '1.6415218803571003E-5', '6', '1.0950436889424408E-5', '0', '6.029625941161625E-6', '7', '4.339663926064157E-6']\n",
      "22, {'4': '0.5376305346482004', '3': '0.2532686676716351', '5': '0.18557805906963198', '9': '0.023194121932928892', '8': '2.707242234755557E-4', '2': '2.0157508567879914E-5', '1': '1.6415218803571003E-5', '6': '1.0950436889424408E-5', '0': '6.029625941161625E-6', '7': '4.339663926064157E-6'}\n",
      "row:['23', 'file:/Users/Lianna/Desktop/525DH%20Coding/Gui%20Input/The_Tournament_Bulfinch.txt', '5', '0.49987786135344403', '9', '0.22488864972617667', '3', '0.2158374650894098', '4', '0.05916218961653144', '2', '6.320942460758718E-5', '8', '5.2296466246911415E-5', '1', '5.147444347535748E-5', '6', '3.4338113395876546E-5', '0', '1.8907554227565595E-5', '7', '1.3608212484846218E-5']\n",
      "23, {'5': '0.49987786135344403', '9': '0.22488864972617667', '3': '0.2158374650894098', '4': '0.05916218961653144', '2': '6.320942460758718E-5', '8': '5.2296466246911415E-5', '1': '5.147444347535748E-5', '6': '3.4338113395876546E-5', '0': '1.8907554227565595E-5', '7': '1.3608212484846218E-5'}\n",
      "row:['24', 'file:/Users/Lianna/Desktop/525DH%20Coding/Gui%20Input/War_in_Africa_Bulfinch.txt', '5', '0.5701436626466162', '3', '0.23028630198180078', '9', '0.12877412629779897', '4', '0.07063795250191586', '2', '4.269838802147313E-5', '8', '3.5326611843488716E-5', '1', '3.477132997721329E-5', '6', '2.3195624684210332E-5', '0', '1.2772179021682404E-5', '7', '9.192438320137377E-6']\n",
      "24, {'5': '0.5701436626466162', '3': '0.23028630198180078', '9': '0.12877412629779897', '4': '0.07063795250191586', '2': '4.269838802147313E-5', '8': '3.5326611843488716E-5', '1': '3.477132997721329E-5', '6': '2.3195624684210332E-5', '0': '1.2772179021682404E-5', '7': '9.192438320137377E-6'}\n",
      "row:['25', 'file:/Users/Lianna/Desktop/525DH%20Coding/Gui%20Input/Medoro_Bulfinch.txt', '9', '0.3849521380212874', '3', '0.3102795347914185', '5', '0.2603313486142874', '4', '0.028205813620088994', '2', '0.008861479792129237', '1', '0.007250058320413919', '8', '5.250560498771452E-5', '6', '3.447543490749191E-5', '0', '1.898316740693702E-5', '7', '1.3662633072467278E-5']\n",
      "25, {'9': '0.3849521380212874', '3': '0.3102795347914185', '5': '0.2603313486142874', '4': '0.028205813620088994', '2': '0.008861479792129237', '1': '0.007250058320413919', '8': '5.250560498771452E-5', '6': '3.447543490749191E-5', '0': '1.898316740693702E-5', '7': '1.3662633072467278E-5'}\n",
      "row:['26', 'file:/Users/Lianna/Desktop/525DH%20Coding/Gui%20Input/Aiol.txt', '7', '0.581356746063585', '3', '0.41259299105421277', '2', '0.002764096061613807', '5', '0.00247821869660765', '9', '7.718846623995164E-4', '8', '2.6280935991324373E-5', '4', '6.540631503852479E-6', '1', '1.5935305275672406E-6', '6', '1.063029112332037E-6', '0', '5.853344461642006E-7']\n",
      "26, {'7': '0.581356746063585', '3': '0.41259299105421277', '2': '0.002764096061613807', '5': '0.00247821869660765', '9': '7.718846623995164E-4', '8': '2.6280935991324373E-5', '4': '6.540631503852479E-6', '1': '1.5935305275672406E-6', '6': '1.063029112332037E-6', '0': '5.853344461642006E-7'}\n"
     ]
    }
   ],
   "source": [
    "docs_alltopics = parse_topicsDocs(topicDocs)"
   ]
  },
  {
   "cell_type": "code",
   "execution_count": 66,
   "metadata": {},
   "outputs": [
    {
     "data": {
      "text/plain": [
       "{'9': '0.5911324428575963',\n",
       " '3': '0.21869186744995803',\n",
       " '5': '0.15254477596536714',\n",
       " '4': '0.037448516942247864',\n",
       " '2': '4.930499947208124E-5',\n",
       " '8': '4.0792607379409387E-5',\n",
       " '1': '4.015140818215169E-5',\n",
       " '6': '2.6784623865295226E-5',\n",
       " '0': '1.4748385339621816E-5',\n",
       " '7': '1.061476059221675E-5'}"
      ]
     },
     "execution_count": 66,
     "metadata": {},
     "output_type": "execute_result"
    }
   ],
   "source": [
    "# This should match the first row of the spreadsheet!  Although it's not ordered the same way.\n",
    "\n",
    "docs_alltopics['1']"
   ]
  },
  {
   "cell_type": "markdown",
   "metadata": {},
   "source": [
    "#### Check you have the right number of documents in your new dictionary, to match files count (note if you have .DS_Store you will have a mismatch!)"
   ]
  },
  {
   "cell_type": "code",
   "execution_count": 67,
   "metadata": {},
   "outputs": [
    {
     "name": "stdout",
     "output_type": "stream",
     "text": [
      "ls: data/mixed_chapters: No such file or directory\r\n",
      "       0\r\n"
     ]
    }
   ],
   "source": [
    "ls data/mixed_chapters | wc -l"
   ]
  },
  {
   "cell_type": "code",
   "execution_count": 68,
   "metadata": {},
   "outputs": [
    {
     "data": {
      "text/plain": [
       "27"
      ]
     },
     "execution_count": 68,
     "metadata": {},
     "output_type": "execute_result"
    }
   ],
   "source": [
    "# Verify the length of the dict is the number of docs in the data directory\n",
    "\n",
    "len(docs_alltopics)"
   ]
  },
  {
   "cell_type": "markdown",
   "metadata": {},
   "source": [
    "## Now let's do a simple first visualization of the data in Excel.\n",
    "\n",
    "\n",
    "To make a much simpler list of the data, I want to format it \"long form,\" with a document-topic pair per row.  The filename and author are just helpful for understanding the data, and for grouping by author if we want to."
   ]
  },
  {
   "cell_type": "code",
   "execution_count": 73,
   "metadata": {},
   "outputs": [],
   "source": [
    "# Make a simple csv format we could see in Excel: doc #, topic, strength, title\n",
    "\n",
    "def doc_topics_for_excel_table(docs_alltopics, doc_ids, doc_authors, filename):\n",
    "    ''' Produce a csv of docs, topics, scores, and filename.\n",
    "    \n",
    "    Args:\n",
    "        docs_alltopics: the output from read_doctopics\n",
    "        doc_ids: document ids to filename dict\n",
    "        filename: to save to\n",
    "    Output:\n",
    "        A csv file we can open in Excel.\n",
    "    '''\n",
    "    with open(filename, \"w\") as handle:\n",
    "        print (\"DocID,Topic,Score,File,Author\")  # first row headers for cell below\n",
    "        \n",
    "        handle.write(\"DocID,Topic,Score,File,Author\\n\")  # the header of the file\n",
    "        for id, topics in docs_alltopics.items():\n",
    "            #print x, docs_alltopics[x].keys()\n",
    "            for topic, score in topics.items():\n",
    "                #print topic, score\n",
    "                #print (','.join([str(id), \"Topic\"+str(topic), str(score), doc_ids[id], doc_authors[id]]))\n",
    "               handle.write(','.join([str(id), \"Topic\"+str(topic), str(score), doc_ids[id], doc_authors[id] + \"\\n\"]))"
   ]
  },
  {
   "cell_type": "code",
   "execution_count": 76,
   "metadata": {},
   "outputs": [
    {
     "name": "stdout",
     "output_type": "stream",
     "text": [
      "DocID,Topic,Score,File,Author\n"
     ]
    }
   ],
   "source": [
    "doc_topics_for_excel_table(docs_alltopics, doc_ids, doc_authors, '/Users/Lianna/Desktop/525DH/GuiOutput/output_csv/for_excel.csv')"
   ]
  },
  {
   "cell_type": "markdown",
   "metadata": {},
   "source": [
    "#### Now open that file in Excel and do some nice analysis / viewing of the topics in a pivot table!\n",
    "\n",
    "####  In a pivot table, you can see the matrix of files and topics and scores, and sort as you like. Note that this table view will have different numbers than yours...\n",
    "<img src=\"images/Excel_Pivot.png\" width=\"90%\">\n",
    "\n",
    "Some things are clear from this view: the Austen files are all associated strongly with the same topic numbers (7 and  11 in this picture), and not with most other topics. Topics 11 and 9 are pretty diffuse - weakly matching most of the documents.  The strength of author to topic, even across books, is remarkable for some authors, like Dan Brown, Doyle, and EL James.  But we should expect that, knowing what we know about their writing!\n",
    "\n",
    "Let's try a network view now.  Let's generate that data..."
   ]
  },
  {
   "cell_type": "markdown",
   "metadata": {},
   "source": [
    "# Network Views\n",
    "\n",
    "One way to visualize this data is in a network - since we have relationships among a bunch of objects. \n",
    "A simple first pass is to imagine 2 node types: documents, and topics.  The links between these nodes \n",
    "are the relations of the documents to topics.  We can also scale the edge lines by the strength of the relationship to the topic.\n",
    "\n",
    "<img src=\"images/simple_network.png\" width=\"30%\">"
   ]
  },
  {
   "cell_type": "markdown",
   "metadata": {},
   "source": [
    "In the [Gephi network visualization tool](http://gephi.org), we can import simple nodes (the dots above) and edges, the links between them, from CSV files.  So we have to do some data munging to write those out."
   ]
  },
  {
   "cell_type": "code",
   "execution_count": 77,
   "metadata": {},
   "outputs": [],
   "source": [
    "def make_nodes_file(doc_ids, doc_authors, topic_list=None, filename='/Users/Lianna/Desktop/525DH/GuiOutput/output_csv/nodes.csv'):\n",
    "    ''' Produce a csv of docs, topics, scores, and filename.\n",
    "    \n",
    "    Args:\n",
    "        doc_ids: dict with document id keys to filename values\n",
    "        doc_authors: dict with doc id keys to authors of docs\n",
    "        topic_list (opt'l): a dict of the words for each topic, the output from list_words_for_topics\n",
    "        filename: file to to save to, default nodes.csv\n",
    "    Output:\n",
    "        A dict of node id numbers for docs and topics, keys being 'Doc' + id or 'Topic' + id.\n",
    "        This is because Gephi needs unique node id's.\n",
    "    '''\n",
    "    \n",
    "    idNumbering = {}\n",
    "    \n",
    "    counter = 1\n",
    "    for doc in doc_ids.keys():\n",
    "        idNumbering['Doc' + doc] = counter\n",
    "        counter += 1\n",
    "    \n",
    "    if topic_list:\n",
    "        for topic in word_list:\n",
    "            idNumbering['Topic' + topic] = counter\n",
    "            counter += 1\n",
    "                \n",
    "    with open(filename, \"w\") as handle:\n",
    "        #print \"Id,Label,Type,Author\"  # first row headers for cell below\n",
    "        handle.write(\"Id,Label,Type,Author\\n\")  # the header of the file\n",
    "        for doc in doc_ids.keys():\n",
    "            string = ','.join([str(idNumbering['Doc' + doc]),\n",
    "                        doc_ids[doc].replace('.txt',''), 'Doc',\n",
    "                        str(doc_authors[doc])])\n",
    "            #print string\n",
    "            handle.write(string + '\\n')\n",
    "        if topic_list:\n",
    "            for topic in word_list.keys():\n",
    "                string = ','.join([str(idNumbering['Topic' + topic]),\n",
    "                            ':'.join(['Topic' + topic] + word_list[topic][0:4]), 'Topic',\n",
    "                            'None'])\n",
    "                #print string\n",
    "                handle.write(string + '\\n')\n",
    "    \n",
    "    return idNumbering"
   ]
  },
  {
   "cell_type": "code",
   "execution_count": 78,
   "metadata": {},
   "outputs": [],
   "source": [
    "numbering = make_nodes_file(doc_ids, doc_authors, topic_list=word_list, filename = '/Users/Lianna/Desktop/525DH/GuiOutput/output_csv/nodes.csv')"
   ]
  },
  {
   "cell_type": "code",
   "execution_count": 79,
   "metadata": {},
   "outputs": [],
   "source": [
    "def make_edge_file(doctopics, filename = '/Users/Lianna/Desktop/525DH/GuiOutput/output_csv/edges.csv'):\n",
    "    \"\"\" \n",
    "    Print out the edges, the links from documents to topics, with scores, as csv.\n",
    "    Args:\n",
    "        doctopics: the result of parse_topicsDocs\n",
    "        filename: file to save result to as csv\n",
    "    Output:\n",
    "        None\n",
    "    \"\"\"\n",
    "\n",
    "    with open(filename, 'w') as handle:\n",
    "        handle.write(\"Source,Target,Weight\\n\")\n",
    "        #print \"Source,Target,Weight\"\n",
    "        for doc, topics in doctopics.items():\n",
    "            for topic, score in topics.items():\n",
    "                string = ','.join([str(numbering['Doc' + str(doc)]), \n",
    "                                   str(numbering[\"Topic\"+str(topic)]), \n",
    "                                   str(score)])\n",
    "                #print string\n",
    "                handle.write(string + '\\n')"
   ]
  },
  {
   "cell_type": "code",
   "execution_count": 80,
   "metadata": {},
   "outputs": [],
   "source": [
    "make_edge_file(docs_alltopics, filename = '/Users/Lianna/Desktop/525DH/GuiOutput/output_csv/edges.csv')"
   ]
  },
  {
   "cell_type": "markdown",
   "metadata": {},
   "source": [
    "## Now open Gephi.\n",
    "\n",
    "Load the nodes and edges files into Gephi.  Get the Data Table window open. \n",
    "\n",
    "<img src='images/Gephi_ImportSpreadsheet.png'>\n",
    "\n",
    "Load the nodes file and the edges file using the \"import spreadsheet\" button.\n",
    "\n",
    "<img src='images/Gephi_ImportNodes.png'>\n",
    "\n",
    "Don't forget the edges file too!\n",
    "\n",
    "<img src='images/Gephi_ImportEdges.png'>\n",
    "\n",
    "If you need more help, try this [Gephi help-page](https://github.com/gephi/gephi/wiki/Import-CSV-Data).\n",
    "\n",
    "Now switch to the Overview tab to lay out your nodes and size/color things.  Use the Preview tab to make a pretty version to print. There are some helpful instructions at the beginning of the [GephiToSigmaJS pdf](files/GephiToSigmaJS_Grimms.pdf) in the files directory, but the end of it isn't relevant here.\n",
    "\n",
    "Some things to try:\n",
    "* Color (\"partition\") nodes by type - topic or document.\n",
    "* Color by author - so you can see documents by the same author, regardless of the chapter/title.\n",
    "* Size nodes by degree - the number of edges attached to them.  This shows you the more \"popular\" topics.\n",
    "* Use a force (force atlas 2) layout, so that items more connected are closer together.\n",
    "* Use \"label adjust\" to shift nodes a little, to prevent overlap of label and node. You'll still need to hand adjust for a good final version.\n",
    "* Adjust in Overview, and fine-tune the visual for export in Preview.\n",
    "\n",
    "\n",
    "When you're done, your Preview might look something like this, where thicker edges mean stronger relationship:\n",
    "\n",
    "<img src='images/Docs_Topics_Gephi.png' width=\"80%\">"
   ]
  },
  {
   "cell_type": "markdown",
   "metadata": {},
   "source": [
    "In the image, you can see the Austen files grouped together closely to a topic with \"elinor\" in it.  The EL James files are close to their topic node.  Thicker lines represent stronger ties.  You can see some strong ties crossing the entire network.\n",
    "\n",
    "## Suppose we want a network of just the documents, removing the topics in between?  \n",
    "\n",
    "We can do a little data munging to link documents that belong to a topic, based on a scaled average of the weights.  First, let's use the nicely formatted excel file to get a dictionary of the topics and their documents and weights:"
   ]
  },
  {
   "cell_type": "code",
   "execution_count": null,
   "metadata": {},
   "outputs": [],
   "source": [
    "from collections import defaultdict\n",
    "topics = defaultdict(list)\n",
    "\n",
    "with open('data/for_excel.csv', 'r') as handle:\n",
    "    reader = csv.reader(handle)\n",
    "    next(reader)  # skip the first row which is labels\n",
    "    for row in reader:\n",
    "        doc = row[0]\n",
    "        topic = row[1]\n",
    "        weight = row[2]\n",
    "        topics[topic].append((doc, weight))"
   ]
  },
  {
   "cell_type": "code",
   "execution_count": null,
   "metadata": {},
   "outputs": [],
   "source": [
    "# This is a dict of topics with a list of doc-weight pairs per topic.\n",
    "topics"
   ]
  },
  {
   "cell_type": "code",
   "execution_count": null,
   "metadata": {},
   "outputs": [],
   "source": [
    "topics['Topic2']"
   ]
  },
  {
   "cell_type": "markdown",
   "metadata": {},
   "source": [
    "We'll do a little clever data munging to make relationships between all the documents that are associated with a topic."
   ]
  },
  {
   "cell_type": "code",
   "execution_count": null,
   "metadata": {},
   "outputs": [],
   "source": [
    "# A short way to make a set of pairs of items in a list\n",
    "import itertools\n",
    "pairs = [24,34,454,54]\n",
    "[x for x in itertools.combinations(pairs,2)]"
   ]
  },
  {
   "cell_type": "code",
   "execution_count": null,
   "metadata": {},
   "outputs": [],
   "source": [
    "# we can apply this principle to the pairs of the doc and score, too:\n",
    "\n",
    "[x for x in itertools.combinations(topics['Topic2'],2)]"
   ]
  },
  {
   "cell_type": "markdown",
   "metadata": {},
   "source": [
    "#### Now let's create the edges file without the topics in the mix...  We'll also do a little dirty math to try to adjust the scores to make a variant that relates two documents to each other, based on their original relationship to the topic."
   ]
  },
  {
   "cell_type": "code",
   "execution_count": null,
   "metadata": {},
   "outputs": [],
   "source": [
    "edgesScores = defaultdict(list)\n",
    "\n",
    "for topic, doclist in topics.iteritems():\n",
    "    # make the pairs from all the document, weight items.  First filter at whatever weight you want.\n",
    "    filtered = [x for x in doclist if float(x[1]) >= .30]\n",
    "    \n",
    "    # filtering because there are just TOO MANY LINKS otherwise.  Trust me, I tried it first without.\n",
    "    print \"Topic\", topic, \"originally\", len(doclist), \"filtered to\", len(filtered)\n",
    "    combos = [x for x in itertools.combinations(filtered,2)]\n",
    "    for pair in combos:\n",
    "        #print pair\n",
    "        node1 = pair[0][0]\n",
    "        node2 = pair[1][0]\n",
    "        weight1 = float(pair[0][1])\n",
    "        weight2 = float(pair[1][1])\n",
    "        if weight1 and weight2:\n",
    "            # an approximation of the distance based on similarity in this topic\n",
    "            if weight1 != weight2:\n",
    "                weight = (1 / abs(weight1 - weight2)) / 10\n",
    "            else:  # just make it high if the scores are the same\n",
    "                weight = 100\n",
    "            if node2 < node1:\n",
    "                # swap to keep the same ordering everywhere\n",
    "                node1, node2 = node2, node1\n",
    "        edgesScores[(node1,node2)].append(weight)"
   ]
  },
  {
   "cell_type": "code",
   "execution_count": null,
   "metadata": {},
   "outputs": [],
   "source": [
    "list(edgesScores.iteritems())[0:2]"
   ]
  },
  {
   "cell_type": "code",
   "execution_count": null,
   "metadata": {},
   "outputs": [],
   "source": [
    "\n",
    "with open('data/edges2.csv', 'w') as handle:\n",
    "    print 'Source,Target,Weight'\n",
    "    handle.write('Source,Target,Weight\\n')\n",
    "    for pair, weights in edgesScores.iteritems():\n",
    "        source = str(numbering['Doc' + pair[0]])\n",
    "        target = str(numbering['Doc' + pair[1]])\n",
    "        weight = round(sum(weights)/len(weights),2)  # avg, rounded to 2 decimal places\n",
    "        print ','.join([source, target, str(weight)])\n",
    "        handle.write(','.join([source, target, str(weight)]) + '\\n')"
   ]
  },
  {
   "cell_type": "markdown",
   "metadata": {},
   "source": [
    "#### Write out a new nodes files without the topics in there.  That's why it was optional!"
   ]
  },
  {
   "cell_type": "code",
   "execution_count": null,
   "metadata": {},
   "outputs": [],
   "source": [
    "numbering = make_nodes_file(doc_ids, doc_authors, filename = 'data/nodes2.csv')"
   ]
  },
  {
   "cell_type": "markdown",
   "metadata": {},
   "source": [
    "### The view in Gephi differs now...\n",
    "\n",
    "After loading that into Gephi and doing some work on it, you get something like this... where, as expected, most of the chapters by the same author are linked.  There are a few interesting oddities, though!\n",
    "<img src=\"images/Docs_Only.png\" width=\"80%\">"
   ]
  },
  {
   "cell_type": "markdown",
   "metadata": {},
   "source": [
    "###Export a Web Graph\n",
    "\n",
    "If you want to export an interactive web page for your graph, you can use the Gephi Plugin for sigma.js. There are instructions in the file [GephiToSigmaJS_Grimms.pdf](https://github.com/arnicas/TopicsNetworksPyladies/blob/master/files/GephiToSigmaJS_Grimms.pdf).\n",
    "\n",
    "Before you run the server to display your sigma.js graph, you should make some modifications to the display settings in the config file.  They are described in the PDF.  Or, you can run your server using files/run_network.py and it will modify the file for you:\n",
    "\n",
    "````\n",
    ">python run_network.py [network_dir] [optl port]\n",
    "````\n"
   ]
  },
  {
   "cell_type": "markdown",
   "metadata": {},
   "source": [
    "### More Reading/Code\n",
    "\n",
    "For some more fun, you can run topic modeling in Python directly using Gensim (or other packages like [lda](http://pythonhosted.org/lda/)).\n",
    "\n",
    "* A recent example of topic modeling with gensim on Shakespeare's sonnets: http://nbviewer.ipython.org/github/sgsinclair/alta/blob/master/ipynb/TopicModelling.ipynb\n",
    "* A tutorial slidedeck focused mostly on R, not Python: http://www.slideshare.net/vitomirkovanovic/topic-modeling-for-learning-analytics-researchers-lak15-tutorial?utm_content=buffer89b5f&utm_medium=social&utm_source=twitter.com&utm_campaign=buffer\n",
    "* The gensim package's intro material on LDA: http://radimrehurek.com/gensim/wiki.html#latent-dirichlet-allocation\n",
    "* Slightly more stuff in my longer tutorial on github: [TopicsPyhonGephi](http://github.com/arnicas/TopicsPythonGephi)\n"
   ]
  },
  {
   "cell_type": "code",
   "execution_count": null,
   "metadata": {
    "collapsed": true
   },
   "outputs": [],
   "source": []
  }
 ],
 "metadata": {
  "kernelspec": {
   "display_name": "Python 3",
   "language": "python",
   "name": "python3"
  },
  "language_info": {
   "codemirror_mode": {
    "name": "ipython",
    "version": 3
   },
   "file_extension": ".py",
   "mimetype": "text/x-python",
   "name": "python",
   "nbconvert_exporter": "python",
   "pygments_lexer": "ipython3",
   "version": "3.7.1"
  }
 },
 "nbformat": 4,
 "nbformat_minor": 1
}
