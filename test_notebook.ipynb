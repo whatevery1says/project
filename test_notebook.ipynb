{
 "cells": [
  {
   "cell_type": "markdown",
   "metadata": {},
   "source": [
    "# Test Notebook"
   ]
  },
  {
   "cell_type": "markdown",
   "metadata": {},
   "source": [
    "## Imports"
   ]
  },
  {
   "cell_type": "code",
   "execution_count": null,
   "metadata": {
    "scrolled": true
   },
   "outputs": [],
   "source": [
    "import json\n",
    "import re\n",
    "import os\n",
    "import pymongo\n",
    "import zipfile\n",
    "from bson import BSON, Binary, json_util, ObjectId\n",
    "from datetime import datetime\n",
    "from pymongo import MongoClient\n",
    "from shutil import copytree, ignore_patterns\n",
    "\n",
    "\n",
    "# Import Project module\n",
    "try:\n",
    "    from project import Project\n",
    "    print('Project module imported.')\n",
    "except:\n",
    "    print('Could not import Project module.')\n",
    "    "
   ]
  },
  {
   "cell_type": "markdown",
   "metadata": {},
   "source": [
    "## Add Sample Data"
   ]
  },
  {
   "cell_type": "code",
   "execution_count": null,
   "metadata": {},
   "outputs": [],
   "source": [
    "# Place a sample manifest in the database - Configure the name below.\n",
    "manifest = {\n",
    "    'name': 'test'\n",
    "}\n",
    "\n",
    "# Insert the manifest\n",
    "projects_db.insert_one(manifest)\n",
    "\n",
    "# From now on, use _id to access the manifest\n",
    "result = list(projects_db.find(manifest))\n",
    "try:\n",
    "    _id = result[0]['_id']\n",
    "    manifest['_id'] = _id\n",
    "except:\n",
    "    pass\n",
    "\n",
    "# Add Some Project Versions to the Manifest\n",
    "manifest['content'] = []\n",
    "now = datetime.today().strftime('%Y%m%d%H%M%S')\n",
    "manifest['content'].append(\n",
    "    {\n",
    "        'version_date': now,\n",
    "        'version_number': 1,\n",
    "        'version_name': now + '_v1_' + manifest['name']\n",
    "\n",
    "    }\n",
    ")\n",
    "now = datetime.today().strftime('%Y%m%d%H%M%S')\n",
    "manifest['content'].append(\n",
    "    {\n",
    "        'version_date': now,\n",
    "        'version_number': 2,\n",
    "        'version_name': now + '_v2_' + manifest['name']\n",
    "\n",
    "    }\n",
    ")\n",
    "projects_db.update_one({'_id': _id},\n",
    "                       {'$set': {'content': manifest['content']}}, upsert=False)\n",
    "\n",
    "result = projects_db.find_one({'_id': _id})\n",
    "\n",
    "print('Manifest:\\n')\n",
    "print(json.dumps(result, indent=2, sort_keys=False, default=JSON_UTIL))\n",
    "\n",
    "# Uncomment to delete the sample manifest\n",
    "# projects_db.delete_one({'_id': _id})\n"
   ]
  },
  {
   "cell_type": "markdown",
   "metadata": {},
   "source": [
    "## Create a Project Object"
   ]
  },
  {
   "cell_type": "code",
   "execution_count": null,
   "metadata": {},
   "outputs": [],
   "source": [
    "project = Project.Project(manifest, config.TEMPLATES_DIR, config.WORKSPACE_DIR)"
   ]
  },
  {
   "cell_type": "markdown",
   "metadata": {},
   "source": [
    "## Test Methods"
   ]
  },
  {
   "cell_type": "code",
   "execution_count": null,
   "metadata": {},
   "outputs": [],
   "source": [
    "# Display the Manifest\n",
    "print(json.dumps(project.manifest, indent=2, sort_keys=False, default=JSON_UTIL))\n"
   ]
  },
  {
   "cell_type": "code",
   "execution_count": null,
   "metadata": {},
   "outputs": [],
   "source": []
  }
 ],
 "metadata": {
  "kernelspec": {
   "display_name": "Python 3",
   "language": "python",
   "name": "python3"
  },
  "language_info": {
   "codemirror_mode": {
    "name": "ipython",
    "version": 3
   },
   "file_extension": ".py",
   "mimetype": "text/x-python",
   "name": "python",
   "nbconvert_exporter": "python",
   "pygments_lexer": "ipython3",
   "version": "3.7.1"
  }
 },
 "nbformat": 4,
 "nbformat_minor": 2
}
